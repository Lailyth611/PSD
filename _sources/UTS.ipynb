{
  "cells": [
    {
      "cell_type": "markdown",
      "metadata": {
        "id": "zgmBYkcCPKa8"
      },
      "source": [
        "# UTS: Processing Data PTA"
      ]
    },
    {
      "cell_type": "code",
      "execution_count": 57,
      "metadata": {
        "id": "OZ5lctbyPGYH"
      },
      "outputs": [],
      "source": [
        "import numpy as np\n",
        "import pandas as pd"
      ]
    },
    {
      "cell_type": "markdown",
      "metadata": {
        "id": "kEM4VGYFPYr3"
      },
      "source": [
        "## Load Data"
      ]
    },
    {
      "cell_type": "code",
      "execution_count": 58,
      "metadata": {
        "colab": {
          "base_uri": "https://localhost:8080/",
          "height": 371
        },
        "id": "U8qdTqGjPXWp",
        "outputId": "5f6c1b69-6555-4381-c8a6-976ac5fec9b9"
      },
      "outputs": [
        {
          "output_type": "execute_result",
          "data": {
            "text/plain": [
              "   Unnamed: 0          NPM                                              Judul  \\\n",
              "0           0  40411100468  perancangan dan implementasi sistem database t...   \n",
              "1           1  40411100476  aplikasi kontrol dan monitoring jaringan kompu...   \n",
              "2           2  40411100480  rancang bangun aplikasi proxy server untukenkr...   \n",
              "3           3  70411100070  sistem pendukung keputusan optimasi penjadwala...   \n",
              "4           4  80411100115  sistem augmented reality animasi benda bergera...   \n",
              "\n",
              "                                             Abstrak               Prodi  \\\n",
              "0  sistem informasi akademik siakad merupakan sis...  Teknik Informatika   \n",
              "1  berjalannya koneksi jaringan komputer dengan l...  Teknik Informatika   \n",
              "2  web server adalah sebuah perangkat lunak serve...  Teknik Informatika   \n",
              "3  penjadwalan kuliah di perguruan tinggi merupak...  Teknik Informatika   \n",
              "4  seiring perkembangan teknologi yang ada diduni...  Teknik Informatika   \n",
              "\n",
              "       Label                                       judul_tokens  \\\n",
              "0        RPL  ['perancangan', 'implementasi', 'sistem', 'dat...   \n",
              "1        RPL  ['aplikasi', 'kontrol', 'monitoring', 'jaringa...   \n",
              "2        RPL  ['rancang', 'bangun', 'aplikasi', 'proxy', 'se...   \n",
              "3  komputasi  ['sistem', 'pendukung', 'keputusan', 'optimasi...   \n",
              "4  komputasi  ['sistem', 'augmented', 'reality', 'animasi', ...   \n",
              "\n",
              "                                      abstrak_tokens  \n",
              "0  sistem informasi akademik siakad sistem inform...  \n",
              "1  jalan koneksi jaring komputer lancar ganggu ha...  \n",
              "2  web server perangkat lunak server berfungsimen...  \n",
              "3  jadwal kuliah guru kompleks masalah variabel t...  \n",
              "4  iring kembang teknologi dunia muncul teknologi...  "
            ],
            "text/html": [
              "\n",
              "  <div id=\"df-fc49f71b-d8dc-478d-bf7a-a20beab520c5\">\n",
              "    <div class=\"colab-df-container\">\n",
              "      <div>\n",
              "<style scoped>\n",
              "    .dataframe tbody tr th:only-of-type {\n",
              "        vertical-align: middle;\n",
              "    }\n",
              "\n",
              "    .dataframe tbody tr th {\n",
              "        vertical-align: top;\n",
              "    }\n",
              "\n",
              "    .dataframe thead th {\n",
              "        text-align: right;\n",
              "    }\n",
              "</style>\n",
              "<table border=\"1\" class=\"dataframe\">\n",
              "  <thead>\n",
              "    <tr style=\"text-align: right;\">\n",
              "      <th></th>\n",
              "      <th>Unnamed: 0</th>\n",
              "      <th>NPM</th>\n",
              "      <th>Judul</th>\n",
              "      <th>Abstrak</th>\n",
              "      <th>Prodi</th>\n",
              "      <th>Label</th>\n",
              "      <th>judul_tokens</th>\n",
              "      <th>abstrak_tokens</th>\n",
              "    </tr>\n",
              "  </thead>\n",
              "  <tbody>\n",
              "    <tr>\n",
              "      <th>0</th>\n",
              "      <td>0</td>\n",
              "      <td>40411100468</td>\n",
              "      <td>perancangan dan implementasi sistem database t...</td>\n",
              "      <td>sistem informasi akademik siakad merupakan sis...</td>\n",
              "      <td>Teknik Informatika</td>\n",
              "      <td>RPL</td>\n",
              "      <td>['perancangan', 'implementasi', 'sistem', 'dat...</td>\n",
              "      <td>sistem informasi akademik siakad sistem inform...</td>\n",
              "    </tr>\n",
              "    <tr>\n",
              "      <th>1</th>\n",
              "      <td>1</td>\n",
              "      <td>40411100476</td>\n",
              "      <td>aplikasi kontrol dan monitoring jaringan kompu...</td>\n",
              "      <td>berjalannya koneksi jaringan komputer dengan l...</td>\n",
              "      <td>Teknik Informatika</td>\n",
              "      <td>RPL</td>\n",
              "      <td>['aplikasi', 'kontrol', 'monitoring', 'jaringa...</td>\n",
              "      <td>jalan koneksi jaring komputer lancar ganggu ha...</td>\n",
              "    </tr>\n",
              "    <tr>\n",
              "      <th>2</th>\n",
              "      <td>2</td>\n",
              "      <td>40411100480</td>\n",
              "      <td>rancang bangun aplikasi proxy server untukenkr...</td>\n",
              "      <td>web server adalah sebuah perangkat lunak serve...</td>\n",
              "      <td>Teknik Informatika</td>\n",
              "      <td>RPL</td>\n",
              "      <td>['rancang', 'bangun', 'aplikasi', 'proxy', 'se...</td>\n",
              "      <td>web server perangkat lunak server berfungsimen...</td>\n",
              "    </tr>\n",
              "    <tr>\n",
              "      <th>3</th>\n",
              "      <td>3</td>\n",
              "      <td>70411100070</td>\n",
              "      <td>sistem pendukung keputusan optimasi penjadwala...</td>\n",
              "      <td>penjadwalan kuliah di perguruan tinggi merupak...</td>\n",
              "      <td>Teknik Informatika</td>\n",
              "      <td>komputasi</td>\n",
              "      <td>['sistem', 'pendukung', 'keputusan', 'optimasi...</td>\n",
              "      <td>jadwal kuliah guru kompleks masalah variabel t...</td>\n",
              "    </tr>\n",
              "    <tr>\n",
              "      <th>4</th>\n",
              "      <td>4</td>\n",
              "      <td>80411100115</td>\n",
              "      <td>sistem augmented reality animasi benda bergera...</td>\n",
              "      <td>seiring perkembangan teknologi yang ada diduni...</td>\n",
              "      <td>Teknik Informatika</td>\n",
              "      <td>komputasi</td>\n",
              "      <td>['sistem', 'augmented', 'reality', 'animasi', ...</td>\n",
              "      <td>iring kembang teknologi dunia muncul teknologi...</td>\n",
              "    </tr>\n",
              "  </tbody>\n",
              "</table>\n",
              "</div>\n",
              "      <button class=\"colab-df-convert\" onclick=\"convertToInteractive('df-fc49f71b-d8dc-478d-bf7a-a20beab520c5')\"\n",
              "              title=\"Convert this dataframe to an interactive table.\"\n",
              "              style=\"display:none;\">\n",
              "        \n",
              "  <svg xmlns=\"http://www.w3.org/2000/svg\" height=\"24px\"viewBox=\"0 0 24 24\"\n",
              "       width=\"24px\">\n",
              "    <path d=\"M0 0h24v24H0V0z\" fill=\"none\"/>\n",
              "    <path d=\"M18.56 5.44l.94 2.06.94-2.06 2.06-.94-2.06-.94-.94-2.06-.94 2.06-2.06.94zm-11 1L8.5 8.5l.94-2.06 2.06-.94-2.06-.94L8.5 2.5l-.94 2.06-2.06.94zm10 10l.94 2.06.94-2.06 2.06-.94-2.06-.94-.94-2.06-.94 2.06-2.06.94z\"/><path d=\"M17.41 7.96l-1.37-1.37c-.4-.4-.92-.59-1.43-.59-.52 0-1.04.2-1.43.59L10.3 9.45l-7.72 7.72c-.78.78-.78 2.05 0 2.83L4 21.41c.39.39.9.59 1.41.59.51 0 1.02-.2 1.41-.59l7.78-7.78 2.81-2.81c.8-.78.8-2.07 0-2.86zM5.41 20L4 18.59l7.72-7.72 1.47 1.35L5.41 20z\"/>\n",
              "  </svg>\n",
              "      </button>\n",
              "      \n",
              "  <style>\n",
              "    .colab-df-container {\n",
              "      display:flex;\n",
              "      flex-wrap:wrap;\n",
              "      gap: 12px;\n",
              "    }\n",
              "\n",
              "    .colab-df-convert {\n",
              "      background-color: #E8F0FE;\n",
              "      border: none;\n",
              "      border-radius: 50%;\n",
              "      cursor: pointer;\n",
              "      display: none;\n",
              "      fill: #1967D2;\n",
              "      height: 32px;\n",
              "      padding: 0 0 0 0;\n",
              "      width: 32px;\n",
              "    }\n",
              "\n",
              "    .colab-df-convert:hover {\n",
              "      background-color: #E2EBFA;\n",
              "      box-shadow: 0px 1px 2px rgba(60, 64, 67, 0.3), 0px 1px 3px 1px rgba(60, 64, 67, 0.15);\n",
              "      fill: #174EA6;\n",
              "    }\n",
              "\n",
              "    [theme=dark] .colab-df-convert {\n",
              "      background-color: #3B4455;\n",
              "      fill: #D2E3FC;\n",
              "    }\n",
              "\n",
              "    [theme=dark] .colab-df-convert:hover {\n",
              "      background-color: #434B5C;\n",
              "      box-shadow: 0px 1px 3px 1px rgba(0, 0, 0, 0.15);\n",
              "      filter: drop-shadow(0px 1px 2px rgba(0, 0, 0, 0.3));\n",
              "      fill: #FFFFFF;\n",
              "    }\n",
              "  </style>\n",
              "\n",
              "      <script>\n",
              "        const buttonEl =\n",
              "          document.querySelector('#df-fc49f71b-d8dc-478d-bf7a-a20beab520c5 button.colab-df-convert');\n",
              "        buttonEl.style.display =\n",
              "          google.colab.kernel.accessAllowed ? 'block' : 'none';\n",
              "\n",
              "        async function convertToInteractive(key) {\n",
              "          const element = document.querySelector('#df-fc49f71b-d8dc-478d-bf7a-a20beab520c5');\n",
              "          const dataTable =\n",
              "            await google.colab.kernel.invokeFunction('convertToInteractive',\n",
              "                                                     [key], {});\n",
              "          if (!dataTable) return;\n",
              "\n",
              "          const docLinkHtml = 'Like what you see? Visit the ' +\n",
              "            '<a target=\"_blank\" href=https://colab.research.google.com/notebooks/data_table.ipynb>data table notebook</a>'\n",
              "            + ' to learn more about interactive tables.';\n",
              "          element.innerHTML = '';\n",
              "          dataTable['output_type'] = 'display_data';\n",
              "          await google.colab.output.renderOutput(dataTable, element);\n",
              "          const docLink = document.createElement('div');\n",
              "          docLink.innerHTML = docLinkHtml;\n",
              "          element.appendChild(docLink);\n",
              "        }\n",
              "      </script>\n",
              "    </div>\n",
              "  </div>\n",
              "  "
            ]
          },
          "metadata": {},
          "execution_count": 58
        }
      ],
      "source": [
        "df = pd.read_csv('https://raw.githubusercontent.com/Lailyth611/PSD/main/DataOlah_Pta.csv')\n",
        "df.head()"
      ]
    },
    {
      "cell_type": "markdown",
      "metadata": {
        "id": "usC_8GRSBapo"
      },
      "source": [
        "## Pre Processing Data"
      ]
    },
    {
      "cell_type": "markdown",
      "metadata": {
        "id": "Fp071pszQfhu"
      },
      "source": [
        "### Processing Data Null\n",
        "\n"
      ]
    },
    {
      "cell_type": "markdown",
      "metadata": {
        "id": "c_R0IqtcR51h"
      },
      "source": [
        "#### Cek Data Null"
      ]
    },
    {
      "cell_type": "code",
      "execution_count": 59,
      "metadata": {
        "colab": {
          "base_uri": "https://localhost:8080/"
        },
        "id": "UsqDvOMPP5Er",
        "outputId": "c7fbe07b-a68f-4ede-870d-6b2480aba028"
      },
      "outputs": [
        {
          "output_type": "execute_result",
          "data": {
            "text/plain": [
              "Unnamed: 0        0\n",
              "NPM               0\n",
              "Judul             0\n",
              "Abstrak           0\n",
              "Prodi             0\n",
              "Label             0\n",
              "judul_tokens      0\n",
              "abstrak_tokens    0\n",
              "dtype: int64"
            ]
          },
          "metadata": {},
          "execution_count": 59
        }
      ],
      "source": [
        "df.isnull().sum()"
      ]
    },
    {
      "cell_type": "markdown",
      "metadata": {
        "id": "IaMcde4bnoGi"
      },
      "source": [
        "Terdapat 25 data kosong pada abstrak dan 43 data kosong pada Label"
      ]
    },
    {
      "cell_type": "markdown",
      "metadata": {
        "id": "hVz1g8B2R9D4"
      },
      "source": [
        "#### Hapus Data Null"
      ]
    },
    {
      "cell_type": "code",
      "execution_count": 60,
      "metadata": {
        "id": "XiMq9WN9QzSW"
      },
      "outputs": [],
      "source": [
        "df.dropna(inplace=True)"
      ]
    },
    {
      "cell_type": "code",
      "execution_count": 61,
      "metadata": {
        "colab": {
          "base_uri": "https://localhost:8080/"
        },
        "id": "UNk-SuXbRqoQ",
        "outputId": "bde739f8-4304-4437-f229-4285a5d6d1d5"
      },
      "outputs": [
        {
          "output_type": "execute_result",
          "data": {
            "text/plain": [
              "Unnamed: 0        0\n",
              "NPM               0\n",
              "Judul             0\n",
              "Abstrak           0\n",
              "Prodi             0\n",
              "Label             0\n",
              "judul_tokens      0\n",
              "abstrak_tokens    0\n",
              "dtype: int64"
            ]
          },
          "metadata": {},
          "execution_count": 61
        }
      ],
      "source": [
        "df.isnull().sum()"
      ]
    },
    {
      "cell_type": "markdown",
      "metadata": {
        "id": "rki2ySOInwIM"
      },
      "source": [
        "Menghapus data Kosong pada abstrak"
      ]
    },
    {
      "cell_type": "markdown",
      "metadata": {
        "id": "99SQunvwSU-6"
      },
      "source": [
        "#### Cek data not null"
      ]
    },
    {
      "cell_type": "code",
      "execution_count": 62,
      "metadata": {
        "colab": {
          "base_uri": "https://localhost:8080/"
        },
        "id": "VXN1AY6iRsDI",
        "outputId": "ba6e7033-3ee3-4c29-b551-9c7927e113d5"
      },
      "outputs": [
        {
          "output_type": "execute_result",
          "data": {
            "text/plain": [
              "Unnamed: 0        809\n",
              "NPM               809\n",
              "Judul             809\n",
              "Abstrak           809\n",
              "Prodi             809\n",
              "Label             809\n",
              "judul_tokens      809\n",
              "abstrak_tokens    809\n",
              "dtype: int64"
            ]
          },
          "metadata": {},
          "execution_count": 62
        }
      ],
      "source": [
        "df.count()"
      ]
    },
    {
      "cell_type": "markdown",
      "metadata": {
        "id": "4kjlQqsrn1Ru"
      },
      "source": [
        "Data yang tidak kosong berjumlah 810"
      ]
    },
    {
      "cell_type": "markdown",
      "metadata": {
        "id": "IVL-bCr7TfEV"
      },
      "source": [
        "#### Cek Jumlah Class Data"
      ]
    },
    {
      "cell_type": "code",
      "execution_count": 63,
      "metadata": {
        "colab": {
          "base_uri": "https://localhost:8080/"
        },
        "id": "XvP3R3eqSZbi",
        "outputId": "af4dac16-6bb0-4e39-dad8-44b86f7215b2"
      },
      "outputs": [
        {
          "output_type": "execute_result",
          "data": {
            "text/plain": [
              "komputasi    572\n",
              "RPL          198\n",
              "PBA           39\n",
              "Name: Label, dtype: int64"
            ]
          },
          "metadata": {},
          "execution_count": 63
        }
      ],
      "source": [
        "df['Label'].value_counts()"
      ]
    },
    {
      "cell_type": "markdown",
      "metadata": {
        "id": "LOxMFvn6UiI0"
      },
      "source": [
        "#### Grafik data Class"
      ]
    },
    {
      "cell_type": "code",
      "execution_count": 64,
      "metadata": {
        "colab": {
          "base_uri": "https://localhost:8080/",
          "height": 430
        },
        "id": "y351i6c1UdAl",
        "outputId": "175474f9-3281-42ed-b063-d6e9c54973e0"
      },
      "outputs": [
        {
          "output_type": "display_data",
          "data": {
            "text/plain": [
              "<Figure size 640x480 with 1 Axes>"
            ],
            "image/png": "[encoded data removed]"
          },
          "metadata": {}
        }
      ],
      "source": [
        "import matplotlib.pyplot as plt\n",
        "\n",
        "df['Label'].value_counts().plot(kind='barh')\n",
        "plt.show()"
      ]
    },
    {
      "cell_type": "markdown",
      "metadata": {
        "id": "57rYEsryU2z1"
      },
      "source": [
        "### Cleaning Text"
      ]
    },
    {
      "cell_type": "code",
      "execution_count": 65,
      "metadata": {
        "id": "TmZ2xZ_GU50B"
      },
      "outputs": [],
      "source": [
        "import re, string\n",
        "\n",
        "# Text Cleaning\n",
        "def cleaning(text):\n",
        "    # Menghapus tag HTML\n",
        "    text = re.compile('<.*?>|&([a-z0-9]+|#[0-9]{1,6}|#x[0-9a-f]{1,6});').sub('', str(text))\n",
        "\n",
        "    # Mengubah seluruh teks menjadi huruf kecil\n",
        "    text = text.lower()\n",
        "\n",
        "    # Menghapus spasi pada teks\n",
        "    text = text.strip()\n",
        "\n",
        "    # Menghapus Tanda Baca, karakter spesial, and spasi ganda\n",
        "    text = re.compile('<.*?>').sub('', text)\n",
        "    text = re.compile('[%s]' % re.escape(string.punctuation)).sub(' ', text)\n",
        "    text = re.sub('\\s+', ' ', text)\n",
        "\n",
        "    # Menghapus Nomor\n",
        "    text = re.sub(r'\\[[0-9]*\\]', ' ', text)\n",
        "    text = re.sub(r'[^\\w\\s]', '', str(text).lower().strip())\n",
        "    text = re.sub(r'\\d', ' ', text)\n",
        "    text = re.sub(r'\\s+', ' ', text)\n",
        "\n",
        "    # Mengubah text yang berisi 'nan' dengan whitespace agar nantinya dapat dihapus\n",
        "    text = re.sub('nan', '', text)\n",
        "\n",
        "    return text"
      ]
    },
    {
      "cell_type": "code",
      "execution_count": 66,
      "metadata": {
        "colab": {
          "base_uri": "https://localhost:8080/",
          "height": 371
        },
        "id": "5iZKqPRSU6jy",
        "outputId": "e57f9b1b-c076-4d65-89b2-c091b5ec083d"
      },
      "outputs": [
        {
          "output_type": "execute_result",
          "data": {
            "text/plain": [
              "   Unnamed: 0          NPM                                              Judul  \\\n",
              "0           0  40411100468  perancangan dan implementasi sistem database t...   \n",
              "1           1  40411100476  aplikasi kontrol dan monitoring jaringan kompu...   \n",
              "2           2  40411100480  rancang bangun aplikasi proxy server untukenkr...   \n",
              "3           3  70411100070  sistem pendukung keputusan optimasi penjadwala...   \n",
              "4           4  80411100115  sistem augmented reality animasi benda bergera...   \n",
              "\n",
              "                                             Abstrak               Prodi  \\\n",
              "0  sistem informasi akademik siakad merupakan sis...  Teknik Informatika   \n",
              "1  berjalannya koneksi jaringan komputer dengan l...  Teknik Informatika   \n",
              "2  web server adalah sebuah perangkat lunak serve...  Teknik Informatika   \n",
              "3  penjadwalan kuliah di perguruan tinggi merupak...  Teknik Informatika   \n",
              "4  seiring perkembangan teknologi yang ada diduni...  Teknik Informatika   \n",
              "\n",
              "       Label                                       judul_tokens  \\\n",
              "0        RPL  ['perancangan', 'implementasi', 'sistem', 'dat...   \n",
              "1        RPL  ['aplikasi', 'kontrol', 'monitoring', 'jaringa...   \n",
              "2        RPL  ['rancang', 'bangun', 'aplikasi', 'proxy', 'se...   \n",
              "3  komputasi  ['sistem', 'pendukung', 'keputusan', 'optimasi...   \n",
              "4  komputasi  ['sistem', 'augmented', 'reality', 'animasi', ...   \n",
              "\n",
              "                                      abstrak_tokens  \n",
              "0  sistem informasi akademik siakad sistem inform...  \n",
              "1  jalan koneksi jaring komputer lancar ganggu ha...  \n",
              "2  web server perangkat lunak server berfungsimen...  \n",
              "3  jadwal kuliah guru kompleks masalah variabel t...  \n",
              "4  iring kembang teknologi dunia muncul teknologi...  "
            ],
            "text/html": [
              "\n",
              "  <div id=\"df-d9542319-c3f5-4e4d-835d-1c77ffa8f5bd\">\n",
              "    <div class=\"colab-df-container\">\n",
              "      <div>\n",
              "<style scoped>\n",
              "    .dataframe tbody tr th:only-of-type {\n",
              "        vertical-align: middle;\n",
              "    }\n",
              "\n",
              "    .dataframe tbody tr th {\n",
              "        vertical-align: top;\n",
              "    }\n",
              "\n",
              "    .dataframe thead th {\n",
              "        text-align: right;\n",
              "    }\n",
              "</style>\n",
              "<table border=\"1\" class=\"dataframe\">\n",
              "  <thead>\n",
              "    <tr style=\"text-align: right;\">\n",
              "      <th></th>\n",
              "      <th>Unnamed: 0</th>\n",
              "      <th>NPM</th>\n",
              "      <th>Judul</th>\n",
              "      <th>Abstrak</th>\n",
              "      <th>Prodi</th>\n",
              "      <th>Label</th>\n",
              "      <th>judul_tokens</th>\n",
              "      <th>abstrak_tokens</th>\n",
              "    </tr>\n",
              "  </thead>\n",
              "  <tbody>\n",
              "    <tr>\n",
              "      <th>0</th>\n",
              "      <td>0</td>\n",
              "      <td>40411100468</td>\n",
              "      <td>perancangan dan implementasi sistem database t...</td>\n",
              "      <td>sistem informasi akademik siakad merupakan sis...</td>\n",
              "      <td>Teknik Informatika</td>\n",
              "      <td>RPL</td>\n",
              "      <td>['perancangan', 'implementasi', 'sistem', 'dat...</td>\n",
              "      <td>sistem informasi akademik siakad sistem inform...</td>\n",
              "    </tr>\n",
              "    <tr>\n",
              "      <th>1</th>\n",
              "      <td>1</td>\n",
              "      <td>40411100476</td>\n",
              "      <td>aplikasi kontrol dan monitoring jaringan kompu...</td>\n",
              "      <td>berjalannya koneksi jaringan komputer dengan l...</td>\n",
              "      <td>Teknik Informatika</td>\n",
              "      <td>RPL</td>\n",
              "      <td>['aplikasi', 'kontrol', 'monitoring', 'jaringa...</td>\n",
              "      <td>jalan koneksi jaring komputer lancar ganggu ha...</td>\n",
              "    </tr>\n",
              "    <tr>\n",
              "      <th>2</th>\n",
              "      <td>2</td>\n",
              "      <td>40411100480</td>\n",
              "      <td>rancang bangun aplikasi proxy server untukenkr...</td>\n",
              "      <td>web server adalah sebuah perangkat lunak serve...</td>\n",
              "      <td>Teknik Informatika</td>\n",
              "      <td>RPL</td>\n",
              "      <td>['rancang', 'bangun', 'aplikasi', 'proxy', 'se...</td>\n",
              "      <td>web server perangkat lunak server berfungsimen...</td>\n",
              "    </tr>\n",
              "    <tr>\n",
              "      <th>3</th>\n",
              "      <td>3</td>\n",
              "      <td>70411100070</td>\n",
              "      <td>sistem pendukung keputusan optimasi penjadwala...</td>\n",
              "      <td>penjadwalan kuliah di perguruan tinggi merupak...</td>\n",
              "      <td>Teknik Informatika</td>\n",
              "      <td>komputasi</td>\n",
              "      <td>['sistem', 'pendukung', 'keputusan', 'optimasi...</td>\n",
              "      <td>jadwal kuliah guru kompleks masalah variabel t...</td>\n",
              "    </tr>\n",
              "    <tr>\n",
              "      <th>4</th>\n",
              "      <td>4</td>\n",
              "      <td>80411100115</td>\n",
              "      <td>sistem augmented reality animasi benda bergera...</td>\n",
              "      <td>seiring perkembangan teknologi yang ada diduni...</td>\n",
              "      <td>Teknik Informatika</td>\n",
              "      <td>komputasi</td>\n",
              "      <td>['sistem', 'augmented', 'reality', 'animasi', ...</td>\n",
              "      <td>iring kembang teknologi dunia muncul teknologi...</td>\n",
              "    </tr>\n",
              "  </tbody>\n",
              "</table>\n",
              "</div>\n",
              "      <button class=\"colab-df-convert\" onclick=\"convertToInteractive('df-d9542319-c3f5-4e4d-835d-1c77ffa8f5bd')\"\n",
              "              title=\"Convert this dataframe to an interactive table.\"\n",
              "              style=\"display:none;\">\n",
              "        \n",
              "  <svg xmlns=\"http://www.w3.org/2000/svg\" height=\"24px\"viewBox=\"0 0 24 24\"\n",
              "       width=\"24px\">\n",
              "    <path d=\"M0 0h24v24H0V0z\" fill=\"none\"/>\n",
              "    <path d=\"M18.56 5.44l.94 2.06.94-2.06 2.06-.94-2.06-.94-.94-2.06-.94 2.06-2.06.94zm-11 1L8.5 8.5l.94-2.06 2.06-.94-2.06-.94L8.5 2.5l-.94 2.06-2.06.94zm10 10l.94 2.06.94-2.06 2.06-.94-2.06-.94-.94-2.06-.94 2.06-2.06.94z\"/><path d=\"M17.41 7.96l-1.37-1.37c-.4-.4-.92-.59-1.43-.59-.52 0-1.04.2-1.43.59L10.3 9.45l-7.72 7.72c-.78.78-.78 2.05 0 2.83L4 21.41c.39.39.9.59 1.41.59.51 0 1.02-.2 1.41-.59l7.78-7.78 2.81-2.81c.8-.78.8-2.07 0-2.86zM5.41 20L4 18.59l7.72-7.72 1.47 1.35L5.41 20z\"/>\n",
              "  </svg>\n",
              "      </button>\n",
              "      \n",
              "  <style>\n",
              "    .colab-df-container {\n",
              "      display:flex;\n",
              "      flex-wrap:wrap;\n",
              "      gap: 12px;\n",
              "    }\n",
              "\n",
              "    .colab-df-convert {\n",
              "      background-color: #E8F0FE;\n",
              "      border: none;\n",
              "      border-radius: 50%;\n",
              "      cursor: pointer;\n",
              "      display: none;\n",
              "      fill: #1967D2;\n",
              "      height: 32px;\n",
              "      padding: 0 0 0 0;\n",
              "      width: 32px;\n",
              "    }\n",
              "\n",
              "    .colab-df-convert:hover {\n",
              "      background-color: #E2EBFA;\n",
              "      box-shadow: 0px 1px 2px rgba(60, 64, 67, 0.3), 0px 1px 3px 1px rgba(60, 64, 67, 0.15);\n",
              "      fill: #174EA6;\n",
              "    }\n",
              "\n",
              "    [theme=dark] .colab-df-convert {\n",
              "      background-color: #3B4455;\n",
              "      fill: #D2E3FC;\n",
              "    }\n",
              "\n",
              "    [theme=dark] .colab-df-convert:hover {\n",
              "      background-color: #434B5C;\n",
              "      box-shadow: 0px 1px 3px 1px rgba(0, 0, 0, 0.15);\n",
              "      filter: drop-shadow(0px 1px 2px rgba(0, 0, 0, 0.3));\n",
              "      fill: #FFFFFF;\n",
              "    }\n",
              "  </style>\n",
              "\n",
              "      <script>\n",
              "        const buttonEl =\n",
              "          document.querySelector('#df-d9542319-c3f5-4e4d-835d-1c77ffa8f5bd button.colab-df-convert');\n",
              "        buttonEl.style.display =\n",
              "          google.colab.kernel.accessAllowed ? 'block' : 'none';\n",
              "\n",
              "        async function convertToInteractive(key) {\n",
              "          const element = document.querySelector('#df-d9542319-c3f5-4e4d-835d-1c77ffa8f5bd');\n",
              "          const dataTable =\n",
              "            await google.colab.kernel.invokeFunction('convertToInteractive',\n",
              "                                                     [key], {});\n",
              "          if (!dataTable) return;\n",
              "\n",
              "          const docLinkHtml = 'Like what you see? Visit the ' +\n",
              "            '<a target=\"_blank\" href=https://colab.research.google.com/notebooks/data_table.ipynb>data table notebook</a>'\n",
              "            + ' to learn more about interactive tables.';\n",
              "          element.innerHTML = '';\n",
              "          dataTable['output_type'] = 'display_data';\n",
              "          await google.colab.output.renderOutput(dataTable, element);\n",
              "          const docLink = document.createElement('div');\n",
              "          docLink.innerHTML = docLinkHtml;\n",
              "          element.appendChild(docLink);\n",
              "        }\n",
              "      </script>\n",
              "    </div>\n",
              "  </div>\n",
              "  "
            ]
          },
          "metadata": {},
          "execution_count": 66
        }
      ],
      "source": [
        "# df['Judul'] = df['Judul'].apply(lambda x: cleaning(x))\n",
        "df['Abstrak'] = df['Abstrak'].apply(lambda x: cleaning(x))\n",
        "\n",
        "df.head()"
      ]
    },
    {
      "cell_type": "markdown",
      "metadata": {
        "id": "X-fOKbSAVTMa"
      },
      "source": [
        "#### Export Data Cleaning"
      ]
    },
    {
      "cell_type": "code",
      "execution_count": 67,
      "metadata": {
        "id": "a7C_PybJU9ux"
      },
      "outputs": [],
      "source": [
        "# Export Hasil Text Cleaning\n",
        "df.to_csv('PtaCleaning.csv')"
      ]
    },
    {
      "cell_type": "markdown",
      "metadata": {
        "id": "psBhjSBDVlw-"
      },
      "source": [
        "### Menghapus Missing Value"
      ]
    },
    {
      "cell_type": "code",
      "execution_count": 68,
      "metadata": {
        "id": "BW8rZxC3VfWd"
      },
      "outputs": [],
      "source": [
        "# Ubah string kosong menjadi NaN value\n",
        "df = df.replace('', np.nan)"
      ]
    },
    {
      "cell_type": "code",
      "execution_count": 69,
      "metadata": {
        "colab": {
          "base_uri": "https://localhost:8080/"
        },
        "id": "LuTNQtUuV_em",
        "outputId": "39d93744-0791-4cfd-a7bc-7e81972978e7"
      },
      "outputs": [
        {
          "output_type": "execute_result",
          "data": {
            "text/plain": [
              "Unnamed: 0        0\n",
              "NPM               0\n",
              "Judul             0\n",
              "Abstrak           0\n",
              "Prodi             0\n",
              "Label             0\n",
              "judul_tokens      0\n",
              "abstrak_tokens    0\n",
              "dtype: int64"
            ]
          },
          "metadata": {},
          "execution_count": 69
        }
      ],
      "source": [
        "# Cek missing values\n",
        "df.isnull().sum()"
      ]
    },
    {
      "cell_type": "code",
      "execution_count": 70,
      "metadata": {
        "colab": {
          "base_uri": "https://localhost:8080/"
        },
        "id": "DGVKh5LIWEGu",
        "outputId": "e670f390-c7d3-40dd-e668-66f561d384dc"
      },
      "outputs": [
        {
          "output_type": "execute_result",
          "data": {
            "text/plain": [
              "809"
            ]
          },
          "metadata": {},
          "execution_count": 70
        }
      ],
      "source": [
        "# Menghapus Missing Value\n",
        "df.dropna(inplace=True)\n",
        "len(df)"
      ]
    },
    {
      "cell_type": "markdown",
      "metadata": {
        "id": "JF9xjOUMWSMW"
      },
      "source": [
        "### Menghapus Duplicate Value"
      ]
    },
    {
      "cell_type": "code",
      "execution_count": 71,
      "metadata": {
        "colab": {
          "base_uri": "https://localhost:8080/",
          "height": 49
        },
        "id": "_QWaTjZkWLo1",
        "outputId": "4d51c80f-4347-4441-e14c-6a39b18f085c"
      },
      "outputs": [
        {
          "output_type": "execute_result",
          "data": {
            "text/plain": [
              "Empty DataFrame\n",
              "Columns: [Unnamed: 0, NPM, Judul, Abstrak, Prodi, Label, judul_tokens, abstrak_tokens]\n",
              "Index: []"
            ],
            "text/html": [
              "\n",
              "  <div id=\"df-09efdf84-7878-4a2f-85b6-f0b0f809e78f\">\n",
              "    <div class=\"colab-df-container\">\n",
              "      <div>\n",
              "<style scoped>\n",
              "    .dataframe tbody tr th:only-of-type {\n",
              "        vertical-align: middle;\n",
              "    }\n",
              "\n",
              "    .dataframe tbody tr th {\n",
              "        vertical-align: top;\n",
              "    }\n",
              "\n",
              "    .dataframe thead th {\n",
              "        text-align: right;\n",
              "    }\n",
              "</style>\n",
              "<table border=\"1\" class=\"dataframe\">\n",
              "  <thead>\n",
              "    <tr style=\"text-align: right;\">\n",
              "      <th></th>\n",
              "      <th>Unnamed: 0</th>\n",
              "      <th>NPM</th>\n",
              "      <th>Judul</th>\n",
              "      <th>Abstrak</th>\n",
              "      <th>Prodi</th>\n",
              "      <th>Label</th>\n",
              "      <th>judul_tokens</th>\n",
              "      <th>abstrak_tokens</th>\n",
              "    </tr>\n",
              "  </thead>\n",
              "  <tbody>\n",
              "  </tbody>\n",
              "</table>\n",
              "</div>\n",
              "      <button class=\"colab-df-convert\" onclick=\"convertToInteractive('df-09efdf84-7878-4a2f-85b6-f0b0f809e78f')\"\n",
              "              title=\"Convert this dataframe to an interactive table.\"\n",
              "              style=\"display:none;\">\n",
              "        \n",
              "  <svg xmlns=\"http://www.w3.org/2000/svg\" height=\"24px\"viewBox=\"0 0 24 24\"\n",
              "       width=\"24px\">\n",
              "    <path d=\"M0 0h24v24H0V0z\" fill=\"none\"/>\n",
              "    <path d=\"M18.56 5.44l.94 2.06.94-2.06 2.06-.94-2.06-.94-.94-2.06-.94 2.06-2.06.94zm-11 1L8.5 8.5l.94-2.06 2.06-.94-2.06-.94L8.5 2.5l-.94 2.06-2.06.94zm10 10l.94 2.06.94-2.06 2.06-.94-2.06-.94-.94-2.06-.94 2.06-2.06.94z\"/><path d=\"M17.41 7.96l-1.37-1.37c-.4-.4-.92-.59-1.43-.59-.52 0-1.04.2-1.43.59L10.3 9.45l-7.72 7.72c-.78.78-.78 2.05 0 2.83L4 21.41c.39.39.9.59 1.41.59.51 0 1.02-.2 1.41-.59l7.78-7.78 2.81-2.81c.8-.78.8-2.07 0-2.86zM5.41 20L4 18.59l7.72-7.72 1.47 1.35L5.41 20z\"/>\n",
              "  </svg>\n",
              "      </button>\n",
              "      \n",
              "  <style>\n",
              "    .colab-df-container {\n",
              "      display:flex;\n",
              "      flex-wrap:wrap;\n",
              "      gap: 12px;\n",
              "    }\n",
              "\n",
              "    .colab-df-convert {\n",
              "      background-color: #E8F0FE;\n",
              "      border: none;\n",
              "      border-radius: 50%;\n",
              "      cursor: pointer;\n",
              "      display: none;\n",
              "      fill: #1967D2;\n",
              "      height: 32px;\n",
              "      padding: 0 0 0 0;\n",
              "      width: 32px;\n",
              "    }\n",
              "\n",
              "    .colab-df-convert:hover {\n",
              "      background-color: #E2EBFA;\n",
              "      box-shadow: 0px 1px 2px rgba(60, 64, 67, 0.3), 0px 1px 3px 1px rgba(60, 64, 67, 0.15);\n",
              "      fill: #174EA6;\n",
              "    }\n",
              "\n",
              "    [theme=dark] .colab-df-convert {\n",
              "      background-color: #3B4455;\n",
              "      fill: #D2E3FC;\n",
              "    }\n",
              "\n",
              "    [theme=dark] .colab-df-convert:hover {\n",
              "      background-color: #434B5C;\n",
              "      box-shadow: 0px 1px 3px 1px rgba(0, 0, 0, 0.15);\n",
              "      filter: drop-shadow(0px 1px 2px rgba(0, 0, 0, 0.3));\n",
              "      fill: #FFFFFF;\n",
              "    }\n",
              "  </style>\n",
              "\n",
              "      <script>\n",
              "        const buttonEl =\n",
              "          document.querySelector('#df-09efdf84-7878-4a2f-85b6-f0b0f809e78f button.colab-df-convert');\n",
              "        buttonEl.style.display =\n",
              "          google.colab.kernel.accessAllowed ? 'block' : 'none';\n",
              "\n",
              "        async function convertToInteractive(key) {\n",
              "          const element = document.querySelector('#df-09efdf84-7878-4a2f-85b6-f0b0f809e78f');\n",
              "          const dataTable =\n",
              "            await google.colab.kernel.invokeFunction('convertToInteractive',\n",
              "                                                     [key], {});\n",
              "          if (!dataTable) return;\n",
              "\n",
              "          const docLinkHtml = 'Like what you see? Visit the ' +\n",
              "            '<a target=\"_blank\" href=https://colab.research.google.com/notebooks/data_table.ipynb>data table notebook</a>'\n",
              "            + ' to learn more about interactive tables.';\n",
              "          element.innerHTML = '';\n",
              "          dataTable['output_type'] = 'display_data';\n",
              "          await google.colab.output.renderOutput(dataTable, element);\n",
              "          const docLink = document.createElement('div');\n",
              "          docLink.innerHTML = docLinkHtml;\n",
              "          element.appendChild(docLink);\n",
              "        }\n",
              "      </script>\n",
              "    </div>\n",
              "  </div>\n",
              "  "
            ]
          },
          "metadata": {},
          "execution_count": 71
        }
      ],
      "source": [
        "df.drop_duplicates(subset=['Abstrak'], inplace=True)\n",
        "df[df['Abstrak'].duplicated()]"
      ]
    },
    {
      "cell_type": "markdown",
      "metadata": {
        "id": "2il3lFzJXH49"
      },
      "source": [
        "#### Cek Data Kolom Abstrak"
      ]
    },
    {
      "cell_type": "code",
      "execution_count": 72,
      "metadata": {
        "colab": {
          "base_uri": "https://localhost:8080/",
          "height": 49
        },
        "id": "bVU5xQYaWzpn",
        "outputId": "cadec633-ce08-48d4-a7ca-f6dfb66fa333"
      },
      "outputs": [
        {
          "output_type": "execute_result",
          "data": {
            "text/plain": [
              "Empty DataFrame\n",
              "Columns: [Unnamed: 0, NPM, Judul, Abstrak, Prodi, Label, judul_tokens, abstrak_tokens]\n",
              "Index: []"
            ],
            "text/html": [
              "\n",
              "  <div id=\"df-5804b847-19da-4bee-bf9f-d217247effd8\">\n",
              "    <div class=\"colab-df-container\">\n",
              "      <div>\n",
              "<style scoped>\n",
              "    .dataframe tbody tr th:only-of-type {\n",
              "        vertical-align: middle;\n",
              "    }\n",
              "\n",
              "    .dataframe tbody tr th {\n",
              "        vertical-align: top;\n",
              "    }\n",
              "\n",
              "    .dataframe thead th {\n",
              "        text-align: right;\n",
              "    }\n",
              "</style>\n",
              "<table border=\"1\" class=\"dataframe\">\n",
              "  <thead>\n",
              "    <tr style=\"text-align: right;\">\n",
              "      <th></th>\n",
              "      <th>Unnamed: 0</th>\n",
              "      <th>NPM</th>\n",
              "      <th>Judul</th>\n",
              "      <th>Abstrak</th>\n",
              "      <th>Prodi</th>\n",
              "      <th>Label</th>\n",
              "      <th>judul_tokens</th>\n",
              "      <th>abstrak_tokens</th>\n",
              "    </tr>\n",
              "  </thead>\n",
              "  <tbody>\n",
              "  </tbody>\n",
              "</table>\n",
              "</div>\n",
              "      <button class=\"colab-df-convert\" onclick=\"convertToInteractive('df-5804b847-19da-4bee-bf9f-d217247effd8')\"\n",
              "              title=\"Convert this dataframe to an interactive table.\"\n",
              "              style=\"display:none;\">\n",
              "        \n",
              "  <svg xmlns=\"http://www.w3.org/2000/svg\" height=\"24px\"viewBox=\"0 0 24 24\"\n",
              "       width=\"24px\">\n",
              "    <path d=\"M0 0h24v24H0V0z\" fill=\"none\"/>\n",
              "    <path d=\"M18.56 5.44l.94 2.06.94-2.06 2.06-.94-2.06-.94-.94-2.06-.94 2.06-2.06.94zm-11 1L8.5 8.5l.94-2.06 2.06-.94-2.06-.94L8.5 2.5l-.94 2.06-2.06.94zm10 10l.94 2.06.94-2.06 2.06-.94-2.06-.94-.94-2.06-.94 2.06-2.06.94z\"/><path d=\"M17.41 7.96l-1.37-1.37c-.4-.4-.92-.59-1.43-.59-.52 0-1.04.2-1.43.59L10.3 9.45l-7.72 7.72c-.78.78-.78 2.05 0 2.83L4 21.41c.39.39.9.59 1.41.59.51 0 1.02-.2 1.41-.59l7.78-7.78 2.81-2.81c.8-.78.8-2.07 0-2.86zM5.41 20L4 18.59l7.72-7.72 1.47 1.35L5.41 20z\"/>\n",
              "  </svg>\n",
              "      </button>\n",
              "      \n",
              "  <style>\n",
              "    .colab-df-container {\n",
              "      display:flex;\n",
              "      flex-wrap:wrap;\n",
              "      gap: 12px;\n",
              "    }\n",
              "\n",
              "    .colab-df-convert {\n",
              "      background-color: #E8F0FE;\n",
              "      border: none;\n",
              "      border-radius: 50%;\n",
              "      cursor: pointer;\n",
              "      display: none;\n",
              "      fill: #1967D2;\n",
              "      height: 32px;\n",
              "      padding: 0 0 0 0;\n",
              "      width: 32px;\n",
              "    }\n",
              "\n",
              "    .colab-df-convert:hover {\n",
              "      background-color: #E2EBFA;\n",
              "      box-shadow: 0px 1px 2px rgba(60, 64, 67, 0.3), 0px 1px 3px 1px rgba(60, 64, 67, 0.15);\n",
              "      fill: #174EA6;\n",
              "    }\n",
              "\n",
              "    [theme=dark] .colab-df-convert {\n",
              "      background-color: #3B4455;\n",
              "      fill: #D2E3FC;\n",
              "    }\n",
              "\n",
              "    [theme=dark] .colab-df-convert:hover {\n",
              "      background-color: #434B5C;\n",
              "      box-shadow: 0px 1px 3px 1px rgba(0, 0, 0, 0.15);\n",
              "      filter: drop-shadow(0px 1px 2px rgba(0, 0, 0, 0.3));\n",
              "      fill: #FFFFFF;\n",
              "    }\n",
              "  </style>\n",
              "\n",
              "      <script>\n",
              "        const buttonEl =\n",
              "          document.querySelector('#df-5804b847-19da-4bee-bf9f-d217247effd8 button.colab-df-convert');\n",
              "        buttonEl.style.display =\n",
              "          google.colab.kernel.accessAllowed ? 'block' : 'none';\n",
              "\n",
              "        async function convertToInteractive(key) {\n",
              "          const element = document.querySelector('#df-5804b847-19da-4bee-bf9f-d217247effd8');\n",
              "          const dataTable =\n",
              "            await google.colab.kernel.invokeFunction('convertToInteractive',\n",
              "                                                     [key], {});\n",
              "          if (!dataTable) return;\n",
              "\n",
              "          const docLinkHtml = 'Like what you see? Visit the ' +\n",
              "            '<a target=\"_blank\" href=https://colab.research.google.com/notebooks/data_table.ipynb>data table notebook</a>'\n",
              "            + ' to learn more about interactive tables.';\n",
              "          element.innerHTML = '';\n",
              "          dataTable['output_type'] = 'display_data';\n",
              "          await google.colab.output.renderOutput(dataTable, element);\n",
              "          const docLink = document.createElement('div');\n",
              "          docLink.innerHTML = docLinkHtml;\n",
              "          element.appendChild(docLink);\n",
              "        }\n",
              "      </script>\n",
              "    </div>\n",
              "  </div>\n",
              "  "
            ]
          },
          "metadata": {},
          "execution_count": 72
        }
      ],
      "source": [
        "# Remove duplicates abstrak\n",
        "df.drop_duplicates(subset=['Abstrak'], inplace=True)\n",
        "\n",
        "# Cek apakah masih terdapat duplikasi data pada kolom abstrak\n",
        "df[df['Abstrak'].duplicated()]"
      ]
    },
    {
      "cell_type": "code",
      "execution_count": 73,
      "metadata": {
        "id": "cvXJFdgWW9nT"
      },
      "outputs": [],
      "source": [
        "# Export Hasil Preprocessing\n",
        "df.to_csv('preprocessed-pta.csv')"
      ]
    },
    {
      "cell_type": "code",
      "execution_count": 74,
      "metadata": {
        "colab": {
          "base_uri": "https://localhost:8080/",
          "height": 430
        },
        "id": "FAu5EAwOXWXv",
        "outputId": "9b13d122-2ed1-4a48-84bc-e39afd9785cb"
      },
      "outputs": [
        {
          "output_type": "display_data",
          "data": {
            "text/plain": [
              "<Figure size 640x480 with 1 Axes>"
            ],
            "image/png": "[encoded data removed]"
          },
          "metadata": {}
        }
      ],
      "source": [
        "# Distribusi Kelas setelah Text Preprocessing\n",
        "df['Label'].value_counts().plot(kind='barh')\n",
        "plt.show()"
      ]
    },
    {
      "cell_type": "markdown",
      "metadata": {
        "id": "i_nZryr2XboJ"
      },
      "source": [
        "### Tokenisasi\n",
        "Memecah Kalimat Per kata"
      ]
    },
    {
      "cell_type": "code",
      "execution_count": 75,
      "metadata": {
        "colab": {
          "base_uri": "https://localhost:8080/"
        },
        "id": "fzMWLQy7XXeE",
        "outputId": "815fdd2f-83d2-4206-cedc-eed02300ea43"
      },
      "outputs": [
        {
          "output_type": "stream",
          "name": "stderr",
          "text": [
            "[nltk_data] Downloading collection 'popular'\n",
            "[nltk_data]    | \n",
            "[nltk_data]    | Downloading package cmudict to /root/nltk_data...\n",
            "[nltk_data]    |   Package cmudict is already up-to-date!\n",
            "[nltk_data]    | Downloading package gazetteers to /root/nltk_data...\n",
            "[nltk_data]    |   Package gazetteers is already up-to-date!\n",
            "[nltk_data]    | Downloading package genesis to /root/nltk_data...\n",
            "[nltk_data]    |   Package genesis is already up-to-date!\n",
            "[nltk_data]    | Downloading package gutenberg to /root/nltk_data...\n",
            "[nltk_data]    |   Package gutenberg is already up-to-date!\n",
            "[nltk_data]    | Downloading package inaugural to /root/nltk_data...\n",
            "[nltk_data]    |   Package inaugural is already up-to-date!\n",
            "[nltk_data]    | Downloading package movie_reviews to\n",
            "[nltk_data]    |     /root/nltk_data...\n",
            "[nltk_data]    |   Package movie_reviews is already up-to-date!\n",
            "[nltk_data]    | Downloading package names to /root/nltk_data...\n",
            "[nltk_data]    |   Package names is already up-to-date!\n",
            "[nltk_data]    | Downloading package shakespeare to /root/nltk_data...\n",
            "[nltk_data]    |   Package shakespeare is already up-to-date!\n",
            "[nltk_data]    | Downloading package stopwords to /root/nltk_data...\n",
            "[nltk_data]    |   Package stopwords is already up-to-date!\n",
            "[nltk_data]    | Downloading package treebank to /root/nltk_data...\n",
            "[nltk_data]    |   Package treebank is already up-to-date!\n",
            "[nltk_data]    | Downloading package twitter_samples to\n",
            "[nltk_data]    |     /root/nltk_data...\n",
            "[nltk_data]    |   Package twitter_samples is already up-to-date!\n",
            "[nltk_data]    | Downloading package omw to /root/nltk_data...\n",
            "[nltk_data]    |   Package omw is already up-to-date!\n",
            "[nltk_data]    | Downloading package omw-1.4 to /root/nltk_data...\n",
            "[nltk_data]    |   Package omw-1.4 is already up-to-date!\n",
            "[nltk_data]    | Downloading package wordnet to /root/nltk_data...\n",
            "[nltk_data]    |   Package wordnet is already up-to-date!\n",
            "[nltk_data]    | Downloading package wordnet2021 to /root/nltk_data...\n",
            "[nltk_data]    |   Package wordnet2021 is already up-to-date!\n",
            "[nltk_data]    | Downloading package wordnet31 to /root/nltk_data...\n",
            "[nltk_data]    |   Package wordnet31 is already up-to-date!\n",
            "[nltk_data]    | Downloading package wordnet_ic to /root/nltk_data...\n",
            "[nltk_data]    |   Package wordnet_ic is already up-to-date!\n",
            "[nltk_data]    | Downloading package words to /root/nltk_data...\n",
            "[nltk_data]    |   Package words is already up-to-date!\n",
            "[nltk_data]    | Downloading package maxent_ne_chunker to\n",
            "[nltk_data]    |     /root/nltk_data...\n",
            "[nltk_data]    |   Package maxent_ne_chunker is already up-to-date!\n",
            "[nltk_data]    | Downloading package punkt to /root/nltk_data...\n",
            "[nltk_data]    |   Package punkt is already up-to-date!\n",
            "[nltk_data]    | Downloading package snowball_data to\n",
            "[nltk_data]    |     /root/nltk_data...\n",
            "[nltk_data]    |   Package snowball_data is already up-to-date!\n",
            "[nltk_data]    | Downloading package averaged_perceptron_tagger to\n",
            "[nltk_data]    |     /root/nltk_data...\n",
            "[nltk_data]    |   Package averaged_perceptron_tagger is already up-\n",
            "[nltk_data]    |       to-date!\n",
            "[nltk_data]    | \n",
            "[nltk_data]  Done downloading collection popular\n"
          ]
        },
        {
          "output_type": "execute_result",
          "data": {
            "text/plain": [
              "True"
            ]
          },
          "metadata": {},
          "execution_count": 75
        }
      ],
      "source": [
        "import nltk\n",
        "from nltk.tokenize import word_tokenize\n",
        "nltk.download('popular')"
      ]
    },
    {
      "cell_type": "markdown",
      "metadata": {
        "id": "yGVAP3pOYO7Q"
      },
      "source": [
        "#### Tokenisasi Abstrak"
      ]
    },
    {
      "cell_type": "code",
      "execution_count": 76,
      "metadata": {
        "colab": {
          "base_uri": "https://localhost:8080/",
          "height": 206
        },
        "id": "N0PlFP-CXnnq",
        "outputId": "750c6b0d-3929-4f63-d598-e0ac36faca4c"
      },
      "outputs": [
        {
          "output_type": "execute_result",
          "data": {
            "text/plain": [
              "                                             Abstrak  \\\n",
              "0  sistem informasi akademik siakad merupakan sis...   \n",
              "1  berjalannya koneksi jaringan komputer dengan l...   \n",
              "2  web server adalah sebuah perangkat lunak serve...   \n",
              "3  penjadwalan kuliah di perguruan tinggi merupak...   \n",
              "4  seiring perkembangan teknologi yang ada diduni...   \n",
              "\n",
              "                                      abstrak_tokens  \n",
              "0  [sistem, informasi, akademik, siakad, merupaka...  \n",
              "1  [berjalannya, koneksi, jaringan, komputer, den...  \n",
              "2  [web, server, adalah, sebuah, perangkat, lunak...  \n",
              "3  [penjadwalan, kuliah, di, perguruan, tinggi, m...  \n",
              "4  [seiring, perkembangan, teknologi, yang, ada, ...  "
            ],
            "text/html": [
              "\n",
              "  <div id=\"df-3591d5ad-e1f0-4f7f-b33e-b1385ee8d91d\">\n",
              "    <div class=\"colab-df-container\">\n",
              "      <div>\n",
              "<style scoped>\n",
              "    .dataframe tbody tr th:only-of-type {\n",
              "        vertical-align: middle;\n",
              "    }\n",
              "\n",
              "    .dataframe tbody tr th {\n",
              "        vertical-align: top;\n",
              "    }\n",
              "\n",
              "    .dataframe thead th {\n",
              "        text-align: right;\n",
              "    }\n",
              "</style>\n",
              "<table border=\"1\" class=\"dataframe\">\n",
              "  <thead>\n",
              "    <tr style=\"text-align: right;\">\n",
              "      <th></th>\n",
              "      <th>Abstrak</th>\n",
              "      <th>abstrak_tokens</th>\n",
              "    </tr>\n",
              "  </thead>\n",
              "  <tbody>\n",
              "    <tr>\n",
              "      <th>0</th>\n",
              "      <td>sistem informasi akademik siakad merupakan sis...</td>\n",
              "      <td>[sistem, informasi, akademik, siakad, merupaka...</td>\n",
              "    </tr>\n",
              "    <tr>\n",
              "      <th>1</th>\n",
              "      <td>berjalannya koneksi jaringan komputer dengan l...</td>\n",
              "      <td>[berjalannya, koneksi, jaringan, komputer, den...</td>\n",
              "    </tr>\n",
              "    <tr>\n",
              "      <th>2</th>\n",
              "      <td>web server adalah sebuah perangkat lunak serve...</td>\n",
              "      <td>[web, server, adalah, sebuah, perangkat, lunak...</td>\n",
              "    </tr>\n",
              "    <tr>\n",
              "      <th>3</th>\n",
              "      <td>penjadwalan kuliah di perguruan tinggi merupak...</td>\n",
              "      <td>[penjadwalan, kuliah, di, perguruan, tinggi, m...</td>\n",
              "    </tr>\n",
              "    <tr>\n",
              "      <th>4</th>\n",
              "      <td>seiring perkembangan teknologi yang ada diduni...</td>\n",
              "      <td>[seiring, perkembangan, teknologi, yang, ada, ...</td>\n",
              "    </tr>\n",
              "  </tbody>\n",
              "</table>\n",
              "</div>\n",
              "      <button class=\"colab-df-convert\" onclick=\"convertToInteractive('df-3591d5ad-e1f0-4f7f-b33e-b1385ee8d91d')\"\n",
              "              title=\"Convert this dataframe to an interactive table.\"\n",
              "              style=\"display:none;\">\n",
              "        \n",
              "  <svg xmlns=\"http://www.w3.org/2000/svg\" height=\"24px\"viewBox=\"0 0 24 24\"\n",
              "       width=\"24px\">\n",
              "    <path d=\"M0 0h24v24H0V0z\" fill=\"none\"/>\n",
              "    <path d=\"M18.56 5.44l.94 2.06.94-2.06 2.06-.94-2.06-.94-.94-2.06-.94 2.06-2.06.94zm-11 1L8.5 8.5l.94-2.06 2.06-.94-2.06-.94L8.5 2.5l-.94 2.06-2.06.94zm10 10l.94 2.06.94-2.06 2.06-.94-2.06-.94-.94-2.06-.94 2.06-2.06.94z\"/><path d=\"M17.41 7.96l-1.37-1.37c-.4-.4-.92-.59-1.43-.59-.52 0-1.04.2-1.43.59L10.3 9.45l-7.72 7.72c-.78.78-.78 2.05 0 2.83L4 21.41c.39.39.9.59 1.41.59.51 0 1.02-.2 1.41-.59l7.78-7.78 2.81-2.81c.8-.78.8-2.07 0-2.86zM5.41 20L4 18.59l7.72-7.72 1.47 1.35L5.41 20z\"/>\n",
              "  </svg>\n",
              "      </button>\n",
              "      \n",
              "  <style>\n",
              "    .colab-df-container {\n",
              "      display:flex;\n",
              "      flex-wrap:wrap;\n",
              "      gap: 12px;\n",
              "    }\n",
              "\n",
              "    .colab-df-convert {\n",
              "      background-color: #E8F0FE;\n",
              "      border: none;\n",
              "      border-radius: 50%;\n",
              "      cursor: pointer;\n",
              "      display: none;\n",
              "      fill: #1967D2;\n",
              "      height: 32px;\n",
              "      padding: 0 0 0 0;\n",
              "      width: 32px;\n",
              "    }\n",
              "\n",
              "    .colab-df-convert:hover {\n",
              "      background-color: #E2EBFA;\n",
              "      box-shadow: 0px 1px 2px rgba(60, 64, 67, 0.3), 0px 1px 3px 1px rgba(60, 64, 67, 0.15);\n",
              "      fill: #174EA6;\n",
              "    }\n",
              "\n",
              "    [theme=dark] .colab-df-convert {\n",
              "      background-color: #3B4455;\n",
              "      fill: #D2E3FC;\n",
              "    }\n",
              "\n",
              "    [theme=dark] .colab-df-convert:hover {\n",
              "      background-color: #434B5C;\n",
              "      box-shadow: 0px 1px 3px 1px rgba(0, 0, 0, 0.15);\n",
              "      filter: drop-shadow(0px 1px 2px rgba(0, 0, 0, 0.3));\n",
              "      fill: #FFFFFF;\n",
              "    }\n",
              "  </style>\n",
              "\n",
              "      <script>\n",
              "        const buttonEl =\n",
              "          document.querySelector('#df-3591d5ad-e1f0-4f7f-b33e-b1385ee8d91d button.colab-df-convert');\n",
              "        buttonEl.style.display =\n",
              "          google.colab.kernel.accessAllowed ? 'block' : 'none';\n",
              "\n",
              "        async function convertToInteractive(key) {\n",
              "          const element = document.querySelector('#df-3591d5ad-e1f0-4f7f-b33e-b1385ee8d91d');\n",
              "          const dataTable =\n",
              "            await google.colab.kernel.invokeFunction('convertToInteractive',\n",
              "                                                     [key], {});\n",
              "          if (!dataTable) return;\n",
              "\n",
              "          const docLinkHtml = 'Like what you see? Visit the ' +\n",
              "            '<a target=\"_blank\" href=https://colab.research.google.com/notebooks/data_table.ipynb>data table notebook</a>'\n",
              "            + ' to learn more about interactive tables.';\n",
              "          element.innerHTML = '';\n",
              "          dataTable['output_type'] = 'display_data';\n",
              "          await google.colab.output.renderOutput(dataTable, element);\n",
              "          const docLink = document.createElement('div');\n",
              "          docLink.innerHTML = docLinkHtml;\n",
              "          element.appendChild(docLink);\n",
              "        }\n",
              "      </script>\n",
              "    </div>\n",
              "  </div>\n",
              "  "
            ]
          },
          "metadata": {},
          "execution_count": 76
        }
      ],
      "source": [
        "df['abstrak_tokens'] = df['Abstrak'].apply(lambda x: word_tokenize(x))\n",
        "df[[\"Abstrak\", \"abstrak_tokens\"]].head()"
      ]
    },
    {
      "cell_type": "markdown",
      "metadata": {
        "id": "pjaL2vdLYW7A"
      },
      "source": [
        "### Menghapus Stop Word"
      ]
    },
    {
      "cell_type": "code",
      "execution_count": 77,
      "metadata": {
        "colab": {
          "base_uri": "https://localhost:8080/"
        },
        "id": "7AUzpXhZYeAT",
        "outputId": "f595c8ef-f8c2-42d3-a7f6-8d98fed0cabc"
      },
      "outputs": [
        {
          "output_type": "stream",
          "name": "stderr",
          "text": [
            "[nltk_data] Downloading package stopwords to /root/nltk_data...\n",
            "[nltk_data]   Package stopwords is already up-to-date!\n"
          ]
        },
        {
          "output_type": "execute_result",
          "data": {
            "text/plain": [
              "True"
            ]
          },
          "metadata": {},
          "execution_count": 77
        }
      ],
      "source": [
        "nltk.download('stopwords')"
      ]
    },
    {
      "cell_type": "code",
      "execution_count": 78,
      "metadata": {
        "id": "4BZMpnChYRF-"
      },
      "outputs": [],
      "source": [
        "from nltk.corpus import stopwords \n",
        "from itertools import chain\n",
        "\n",
        "stop_words = set(chain(stopwords.words('indonesian'), stopwords.words('english')))\n",
        "\n",
        "# df['judul_tokens'] = df['judul_tokens'].apply(lambda x: [w for w in x if not w in stop_words])\n",
        "df['abstrak_tokens'] = df['abstrak_tokens'].apply(lambda x: [w for w in x if not w in stop_words])"
      ]
    },
    {
      "cell_type": "markdown",
      "metadata": {
        "id": "G2u5PFm-YoLg"
      },
      "source": [
        "### Stop Word Judul"
      ]
    },
    {
      "cell_type": "code",
      "execution_count": 79,
      "metadata": {
        "id": "6UuY5yMlYa5j"
      },
      "outputs": [],
      "source": [
        "# df[[\"Judul\", \"judul_tokens\"]].head()"
      ]
    },
    {
      "cell_type": "markdown",
      "metadata": {
        "id": "joFhTixSYta_"
      },
      "source": [
        "#### Stop Word Abstrak"
      ]
    },
    {
      "cell_type": "code",
      "execution_count": 80,
      "metadata": {
        "colab": {
          "base_uri": "https://localhost:8080/",
          "height": 206
        },
        "id": "LUCvc9HEYiVd",
        "outputId": "bb57643a-7a9a-41ee-be9e-cf0efbcb097c"
      },
      "outputs": [
        {
          "output_type": "execute_result",
          "data": {
            "text/plain": [
              "                                             Abstrak  \\\n",
              "0  sistem informasi akademik siakad merupakan sis...   \n",
              "1  berjalannya koneksi jaringan komputer dengan l...   \n",
              "2  web server adalah sebuah perangkat lunak serve...   \n",
              "3  penjadwalan kuliah di perguruan tinggi merupak...   \n",
              "4  seiring perkembangan teknologi yang ada diduni...   \n",
              "\n",
              "                                      abstrak_tokens  \n",
              "0  [sistem, informasi, akademik, siakad, sistem, ...  \n",
              "1  [berjalannya, koneksi, jaringan, komputer, lan...  \n",
              "2  [web, server, perangkat, lunak, server, berfun...  \n",
              "3  [penjadwalan, kuliah, perguruan, kompleks, per...  \n",
              "4  [seiring, perkembangan, teknologi, didunia, mu...  "
            ],
            "text/html": [
              "\n",
              "  <div id=\"df-1519d908-f888-43ec-a0ac-0bce90f34436\">\n",
              "    <div class=\"colab-df-container\">\n",
              "      <div>\n",
              "<style scoped>\n",
              "    .dataframe tbody tr th:only-of-type {\n",
              "        vertical-align: middle;\n",
              "    }\n",
              "\n",
              "    .dataframe tbody tr th {\n",
              "        vertical-align: top;\n",
              "    }\n",
              "\n",
              "    .dataframe thead th {\n",
              "        text-align: right;\n",
              "    }\n",
              "</style>\n",
              "<table border=\"1\" class=\"dataframe\">\n",
              "  <thead>\n",
              "    <tr style=\"text-align: right;\">\n",
              "      <th></th>\n",
              "      <th>Abstrak</th>\n",
              "      <th>abstrak_tokens</th>\n",
              "    </tr>\n",
              "  </thead>\n",
              "  <tbody>\n",
              "    <tr>\n",
              "      <th>0</th>\n",
              "      <td>sistem informasi akademik siakad merupakan sis...</td>\n",
              "      <td>[sistem, informasi, akademik, siakad, sistem, ...</td>\n",
              "    </tr>\n",
              "    <tr>\n",
              "      <th>1</th>\n",
              "      <td>berjalannya koneksi jaringan komputer dengan l...</td>\n",
              "      <td>[berjalannya, koneksi, jaringan, komputer, lan...</td>\n",
              "    </tr>\n",
              "    <tr>\n",
              "      <th>2</th>\n",
              "      <td>web server adalah sebuah perangkat lunak serve...</td>\n",
              "      <td>[web, server, perangkat, lunak, server, berfun...</td>\n",
              "    </tr>\n",
              "    <tr>\n",
              "      <th>3</th>\n",
              "      <td>penjadwalan kuliah di perguruan tinggi merupak...</td>\n",
              "      <td>[penjadwalan, kuliah, perguruan, kompleks, per...</td>\n",
              "    </tr>\n",
              "    <tr>\n",
              "      <th>4</th>\n",
              "      <td>seiring perkembangan teknologi yang ada diduni...</td>\n",
              "      <td>[seiring, perkembangan, teknologi, didunia, mu...</td>\n",
              "    </tr>\n",
              "  </tbody>\n",
              "</table>\n",
              "</div>\n",
              "      <button class=\"colab-df-convert\" onclick=\"convertToInteractive('df-1519d908-f888-43ec-a0ac-0bce90f34436')\"\n",
              "              title=\"Convert this dataframe to an interactive table.\"\n",
              "              style=\"display:none;\">\n",
              "        \n",
              "  <svg xmlns=\"http://www.w3.org/2000/svg\" height=\"24px\"viewBox=\"0 0 24 24\"\n",
              "       width=\"24px\">\n",
              "    <path d=\"M0 0h24v24H0V0z\" fill=\"none\"/>\n",
              "    <path d=\"M18.56 5.44l.94 2.06.94-2.06 2.06-.94-2.06-.94-.94-2.06-.94 2.06-2.06.94zm-11 1L8.5 8.5l.94-2.06 2.06-.94-2.06-.94L8.5 2.5l-.94 2.06-2.06.94zm10 10l.94 2.06.94-2.06 2.06-.94-2.06-.94-.94-2.06-.94 2.06-2.06.94z\"/><path d=\"M17.41 7.96l-1.37-1.37c-.4-.4-.92-.59-1.43-.59-.52 0-1.04.2-1.43.59L10.3 9.45l-7.72 7.72c-.78.78-.78 2.05 0 2.83L4 21.41c.39.39.9.59 1.41.59.51 0 1.02-.2 1.41-.59l7.78-7.78 2.81-2.81c.8-.78.8-2.07 0-2.86zM5.41 20L4 18.59l7.72-7.72 1.47 1.35L5.41 20z\"/>\n",
              "  </svg>\n",
              "      </button>\n",
              "      \n",
              "  <style>\n",
              "    .colab-df-container {\n",
              "      display:flex;\n",
              "      flex-wrap:wrap;\n",
              "      gap: 12px;\n",
              "    }\n",
              "\n",
              "    .colab-df-convert {\n",
              "      background-color: #E8F0FE;\n",
              "      border: none;\n",
              "      border-radius: 50%;\n",
              "      cursor: pointer;\n",
              "      display: none;\n",
              "      fill: #1967D2;\n",
              "      height: 32px;\n",
              "      padding: 0 0 0 0;\n",
              "      width: 32px;\n",
              "    }\n",
              "\n",
              "    .colab-df-convert:hover {\n",
              "      background-color: #E2EBFA;\n",
              "      box-shadow: 0px 1px 2px rgba(60, 64, 67, 0.3), 0px 1px 3px 1px rgba(60, 64, 67, 0.15);\n",
              "      fill: #174EA6;\n",
              "    }\n",
              "\n",
              "    [theme=dark] .colab-df-convert {\n",
              "      background-color: #3B4455;\n",
              "      fill: #D2E3FC;\n",
              "    }\n",
              "\n",
              "    [theme=dark] .colab-df-convert:hover {\n",
              "      background-color: #434B5C;\n",
              "      box-shadow: 0px 1px 3px 1px rgba(0, 0, 0, 0.15);\n",
              "      filter: drop-shadow(0px 1px 2px rgba(0, 0, 0, 0.3));\n",
              "      fill: #FFFFFF;\n",
              "    }\n",
              "  </style>\n",
              "\n",
              "      <script>\n",
              "        const buttonEl =\n",
              "          document.querySelector('#df-1519d908-f888-43ec-a0ac-0bce90f34436 button.colab-df-convert');\n",
              "        buttonEl.style.display =\n",
              "          google.colab.kernel.accessAllowed ? 'block' : 'none';\n",
              "\n",
              "        async function convertToInteractive(key) {\n",
              "          const element = document.querySelector('#df-1519d908-f888-43ec-a0ac-0bce90f34436');\n",
              "          const dataTable =\n",
              "            await google.colab.kernel.invokeFunction('convertToInteractive',\n",
              "                                                     [key], {});\n",
              "          if (!dataTable) return;\n",
              "\n",
              "          const docLinkHtml = 'Like what you see? Visit the ' +\n",
              "            '<a target=\"_blank\" href=https://colab.research.google.com/notebooks/data_table.ipynb>data table notebook</a>'\n",
              "            + ' to learn more about interactive tables.';\n",
              "          element.innerHTML = '';\n",
              "          dataTable['output_type'] = 'display_data';\n",
              "          await google.colab.output.renderOutput(dataTable, element);\n",
              "          const docLink = document.createElement('div');\n",
              "          docLink.innerHTML = docLinkHtml;\n",
              "          element.appendChild(docLink);\n",
              "        }\n",
              "      </script>\n",
              "    </div>\n",
              "  </div>\n",
              "  "
            ]
          },
          "metadata": {},
          "execution_count": 80
        }
      ],
      "source": [
        "df[[\"Abstrak\", \"abstrak_tokens\"]].head()"
      ]
    },
    {
      "cell_type": "markdown",
      "metadata": {
        "id": "jNgsrwD6YxQP"
      },
      "source": [
        "### Stemming\n",
        "Mengubah Kata Kerja menjadi Kata Dasar"
      ]
    },
    {
      "cell_type": "code",
      "execution_count": 81,
      "metadata": {
        "colab": {
          "base_uri": "https://localhost:8080/"
        },
        "id": "q4aXoovXYvei",
        "outputId": "eb7f3a2a-3766-472e-cac9-b5f3ce243879"
      },
      "outputs": [
        {
          "output_type": "stream",
          "name": "stdout",
          "text": [
            "Looking in indexes: https://pypi.org/simple, https://us-python.pkg.dev/colab-wheels/public/simple/\n",
            "Requirement already satisfied: sastrawi in /usr/local/lib/python3.9/dist-packages (1.0.1)\n"
          ]
        }
      ],
      "source": [
        "!pip install sastrawi"
      ]
    },
    {
      "cell_type": "code",
      "execution_count": 82,
      "metadata": {
        "id": "u0o3bl0VY83Q"
      },
      "outputs": [],
      "source": [
        "from Sastrawi.Stemmer.StemmerFactory import StemmerFactory\n",
        "from tqdm.auto import tqdm\n",
        "tqdm.pandas()\n",
        "\n",
        "factory = StemmerFactory()\n",
        "stemmer = factory.create_stemmer()"
      ]
    },
    {
      "cell_type": "markdown",
      "metadata": {
        "id": "XuR1Ggi9qbjM"
      },
      "source": [
        "#### Stemming Abstrak"
      ]
    },
    {
      "cell_type": "code",
      "execution_count": 83,
      "metadata": {
        "colab": {
          "base_uri": "https://localhost:8080/",
          "height": 49,
          "referenced_widgets": [
            "91eb8755bd5d4c678aa3d2d93d36f541",
            "cf0deaa840dc43e39ccf52de5d1044f6",
            "65e6de6adcb943a381de32b0a1357062",
            "52dd56ef2fea447f8ac623e6f1ed0d43",
            "adac4ee955fc4479940b1c1c595e4606",
            "7a8ff5f2f22c450bba8c1a57a1ca5645",
            "0d4626e644a347d1bc12ee77957cfdb7",
            "6198d719378545e78b0c2943fcc98b5d",
            "2d68d4bcb71243b5b16118ae341d4ce6",
            "00bee6222c1a477cb034062e4fbb4d04",
            "201306e818a84482b17c9906d23f60b2"
          ]
        },
        "id": "M69gB5WjZ5KO",
        "outputId": "c493d2dd-df70-486d-f150-cabeecf96479"
      },
      "outputs": [
        {
          "output_type": "display_data",
          "data": {
            "text/plain": [
              "  0%|          | 0/809 [00:00<?, ?it/s]"
            ],
            "application/vnd.jupyter.widget-view+json": {
              "version_major": 2,
              "version_minor": 0,
              "model_id": "91eb8755bd5d4c678aa3d2d93d36f541"
            }
          },
          "metadata": {}
        }
      ],
      "source": [
        "df['abstrak_tokens'] = df['abstrak_tokens'].progress_apply(lambda x: stemmer.stem(' '.join(x)).split(' '))"
      ]
    },
    {
      "cell_type": "code",
      "execution_count": 84,
      "metadata": {
        "colab": {
          "base_uri": "https://localhost:8080/",
          "height": 206
        },
        "id": "tTgs9VidaeSF",
        "outputId": "87c5d64e-0cbf-4d8c-a669-ce7a57c77277"
      },
      "outputs": [
        {
          "output_type": "execute_result",
          "data": {
            "text/plain": [
              "                                             Abstrak  \\\n",
              "0  sistem informasi akademik siakad merupakan sis...   \n",
              "1  berjalannya koneksi jaringan komputer dengan l...   \n",
              "2  web server adalah sebuah perangkat lunak serve...   \n",
              "3  penjadwalan kuliah di perguruan tinggi merupak...   \n",
              "4  seiring perkembangan teknologi yang ada diduni...   \n",
              "\n",
              "                                      abstrak_tokens  \n",
              "0  [sistem, informasi, akademik, siakad, sistem, ...  \n",
              "1  [jalan, koneksi, jaring, komputer, lancar, gan...  \n",
              "2  [web, server, perangkat, lunak, server, berfun...  \n",
              "3  [jadwal, kuliah, guru, kompleks, masalah, vari...  \n",
              "4  [iring, kembang, teknologi, dunia, muncul, tek...  "
            ],
            "text/html": [
              "\n",
              "  <div id=\"df-d2677a78-cf69-40b0-bcd0-7dc3bd5d4f78\">\n",
              "    <div class=\"colab-df-container\">\n",
              "      <div>\n",
              "<style scoped>\n",
              "    .dataframe tbody tr th:only-of-type {\n",
              "        vertical-align: middle;\n",
              "    }\n",
              "\n",
              "    .dataframe tbody tr th {\n",
              "        vertical-align: top;\n",
              "    }\n",
              "\n",
              "    .dataframe thead th {\n",
              "        text-align: right;\n",
              "    }\n",
              "</style>\n",
              "<table border=\"1\" class=\"dataframe\">\n",
              "  <thead>\n",
              "    <tr style=\"text-align: right;\">\n",
              "      <th></th>\n",
              "      <th>Abstrak</th>\n",
              "      <th>abstrak_tokens</th>\n",
              "    </tr>\n",
              "  </thead>\n",
              "  <tbody>\n",
              "    <tr>\n",
              "      <th>0</th>\n",
              "      <td>sistem informasi akademik siakad merupakan sis...</td>\n",
              "      <td>[sistem, informasi, akademik, siakad, sistem, ...</td>\n",
              "    </tr>\n",
              "    <tr>\n",
              "      <th>1</th>\n",
              "      <td>berjalannya koneksi jaringan komputer dengan l...</td>\n",
              "      <td>[jalan, koneksi, jaring, komputer, lancar, gan...</td>\n",
              "    </tr>\n",
              "    <tr>\n",
              "      <th>2</th>\n",
              "      <td>web server adalah sebuah perangkat lunak serve...</td>\n",
              "      <td>[web, server, perangkat, lunak, server, berfun...</td>\n",
              "    </tr>\n",
              "    <tr>\n",
              "      <th>3</th>\n",
              "      <td>penjadwalan kuliah di perguruan tinggi merupak...</td>\n",
              "      <td>[jadwal, kuliah, guru, kompleks, masalah, vari...</td>\n",
              "    </tr>\n",
              "    <tr>\n",
              "      <th>4</th>\n",
              "      <td>seiring perkembangan teknologi yang ada diduni...</td>\n",
              "      <td>[iring, kembang, teknologi, dunia, muncul, tek...</td>\n",
              "    </tr>\n",
              "  </tbody>\n",
              "</table>\n",
              "</div>\n",
              "      <button class=\"colab-df-convert\" onclick=\"convertToInteractive('df-d2677a78-cf69-40b0-bcd0-7dc3bd5d4f78')\"\n",
              "              title=\"Convert this dataframe to an interactive table.\"\n",
              "              style=\"display:none;\">\n",
              "        \n",
              "  <svg xmlns=\"http://www.w3.org/2000/svg\" height=\"24px\"viewBox=\"0 0 24 24\"\n",
              "       width=\"24px\">\n",
              "    <path d=\"M0 0h24v24H0V0z\" fill=\"none\"/>\n",
              "    <path d=\"M18.56 5.44l.94 2.06.94-2.06 2.06-.94-2.06-.94-.94-2.06-.94 2.06-2.06.94zm-11 1L8.5 8.5l.94-2.06 2.06-.94-2.06-.94L8.5 2.5l-.94 2.06-2.06.94zm10 10l.94 2.06.94-2.06 2.06-.94-2.06-.94-.94-2.06-.94 2.06-2.06.94z\"/><path d=\"M17.41 7.96l-1.37-1.37c-.4-.4-.92-.59-1.43-.59-.52 0-1.04.2-1.43.59L10.3 9.45l-7.72 7.72c-.78.78-.78 2.05 0 2.83L4 21.41c.39.39.9.59 1.41.59.51 0 1.02-.2 1.41-.59l7.78-7.78 2.81-2.81c.8-.78.8-2.07 0-2.86zM5.41 20L4 18.59l7.72-7.72 1.47 1.35L5.41 20z\"/>\n",
              "  </svg>\n",
              "      </button>\n",
              "      \n",
              "  <style>\n",
              "    .colab-df-container {\n",
              "      display:flex;\n",
              "      flex-wrap:wrap;\n",
              "      gap: 12px;\n",
              "    }\n",
              "\n",
              "    .colab-df-convert {\n",
              "      background-color: #E8F0FE;\n",
              "      border: none;\n",
              "      border-radius: 50%;\n",
              "      cursor: pointer;\n",
              "      display: none;\n",
              "      fill: #1967D2;\n",
              "      height: 32px;\n",
              "      padding: 0 0 0 0;\n",
              "      width: 32px;\n",
              "    }\n",
              "\n",
              "    .colab-df-convert:hover {\n",
              "      background-color: #E2EBFA;\n",
              "      box-shadow: 0px 1px 2px rgba(60, 64, 67, 0.3), 0px 1px 3px 1px rgba(60, 64, 67, 0.15);\n",
              "      fill: #174EA6;\n",
              "    }\n",
              "\n",
              "    [theme=dark] .colab-df-convert {\n",
              "      background-color: #3B4455;\n",
              "      fill: #D2E3FC;\n",
              "    }\n",
              "\n",
              "    [theme=dark] .colab-df-convert:hover {\n",
              "      background-color: #434B5C;\n",
              "      box-shadow: 0px 1px 3px 1px rgba(0, 0, 0, 0.15);\n",
              "      filter: drop-shadow(0px 1px 2px rgba(0, 0, 0, 0.3));\n",
              "      fill: #FFFFFF;\n",
              "    }\n",
              "  </style>\n",
              "\n",
              "      <script>\n",
              "        const buttonEl =\n",
              "          document.querySelector('#df-d2677a78-cf69-40b0-bcd0-7dc3bd5d4f78 button.colab-df-convert');\n",
              "        buttonEl.style.display =\n",
              "          google.colab.kernel.accessAllowed ? 'block' : 'none';\n",
              "\n",
              "        async function convertToInteractive(key) {\n",
              "          const element = document.querySelector('#df-d2677a78-cf69-40b0-bcd0-7dc3bd5d4f78');\n",
              "          const dataTable =\n",
              "            await google.colab.kernel.invokeFunction('convertToInteractive',\n",
              "                                                     [key], {});\n",
              "          if (!dataTable) return;\n",
              "\n",
              "          const docLinkHtml = 'Like what you see? Visit the ' +\n",
              "            '<a target=\"_blank\" href=https://colab.research.google.com/notebooks/data_table.ipynb>data table notebook</a>'\n",
              "            + ' to learn more about interactive tables.';\n",
              "          element.innerHTML = '';\n",
              "          dataTable['output_type'] = 'display_data';\n",
              "          await google.colab.output.renderOutput(dataTable, element);\n",
              "          const docLink = document.createElement('div');\n",
              "          docLink.innerHTML = docLinkHtml;\n",
              "          element.appendChild(docLink);\n",
              "        }\n",
              "      </script>\n",
              "    </div>\n",
              "  </div>\n",
              "  "
            ]
          },
          "metadata": {},
          "execution_count": 84
        }
      ],
      "source": [
        "df[[\"Abstrak\", \"abstrak_tokens\"]].head()"
      ]
    },
    {
      "cell_type": "markdown",
      "metadata": {
        "id": "rsuysKzYCTP6"
      },
      "source": [
        "### Export data Processing"
      ]
    },
    {
      "cell_type": "code",
      "execution_count": 85,
      "metadata": {
        "id": "VNdR3v7XdH7z"
      },
      "outputs": [],
      "source": [
        "df['abstrak_tokens'] = df['abstrak_tokens'].apply(lambda x: ' '.join(x))\n",
        "\n",
        "df.to_csv('DataOlah_Pta.csv')"
      ]
    },
    {
      "cell_type": "markdown",
      "metadata": {
        "id": "4958N49MCXZ8"
      },
      "source": [
        "### Load Data Processing"
      ]
    },
    {
      "cell_type": "code",
      "execution_count": 86,
      "metadata": {
        "colab": {
          "base_uri": "https://localhost:8080/",
          "height": 337
        },
        "id": "ygUxDTPVo0k2",
        "outputId": "530b5684-b4c4-4d73-e737-920a21db4bed"
      },
      "outputs": [
        {
          "output_type": "execute_result",
          "data": {
            "text/plain": [
              "           NPM                                              Judul  \\\n",
              "0  40411100468  perancangan dan implementasi sistem database t...   \n",
              "1  40411100476  aplikasi kontrol dan monitoring jaringan kompu...   \n",
              "2  40411100480  rancang bangun aplikasi proxy server untukenkr...   \n",
              "3  70411100070  sistem pendukung keputusan optimasi penjadwala...   \n",
              "4  80411100115  sistem augmented reality animasi benda bergera...   \n",
              "\n",
              "                                             Abstrak               Prodi  \\\n",
              "0  sistem informasi akademik siakad merupakan sis...  Teknik Informatika   \n",
              "1  berjalannya koneksi jaringan komputer dengan l...  Teknik Informatika   \n",
              "2  web server adalah sebuah perangkat lunak serve...  Teknik Informatika   \n",
              "3  penjadwalan kuliah di perguruan tinggi merupak...  Teknik Informatika   \n",
              "4  seiring perkembangan teknologi yang ada diduni...  Teknik Informatika   \n",
              "\n",
              "       Label                                       judul_tokens  \\\n",
              "0        RPL  ['perancangan', 'implementasi', 'sistem', 'dat...   \n",
              "1        RPL  ['aplikasi', 'kontrol', 'monitoring', 'jaringa...   \n",
              "2        RPL  ['rancang', 'bangun', 'aplikasi', 'proxy', 'se...   \n",
              "3  komputasi  ['sistem', 'pendukung', 'keputusan', 'optimasi...   \n",
              "4  komputasi  ['sistem', 'augmented', 'reality', 'animasi', ...   \n",
              "\n",
              "                                      abstrak_tokens  \n",
              "0  sistem informasi akademik siakad sistem inform...  \n",
              "1  jalan koneksi jaring komputer lancar ganggu ha...  \n",
              "2  web server perangkat lunak server berfungsimen...  \n",
              "3  jadwal kuliah guru kompleks masalah variabel t...  \n",
              "4  iring kembang teknologi dunia muncul teknologi...  "
            ],
            "text/html": [
              "\n",
              "  <div id=\"df-46d8b782-8f47-40e0-b789-ce45c6763c21\">\n",
              "    <div class=\"colab-df-container\">\n",
              "      <div>\n",
              "<style scoped>\n",
              "    .dataframe tbody tr th:only-of-type {\n",
              "        vertical-align: middle;\n",
              "    }\n",
              "\n",
              "    .dataframe tbody tr th {\n",
              "        vertical-align: top;\n",
              "    }\n",
              "\n",
              "    .dataframe thead th {\n",
              "        text-align: right;\n",
              "    }\n",
              "</style>\n",
              "<table border=\"1\" class=\"dataframe\">\n",
              "  <thead>\n",
              "    <tr style=\"text-align: right;\">\n",
              "      <th></th>\n",
              "      <th>NPM</th>\n",
              "      <th>Judul</th>\n",
              "      <th>Abstrak</th>\n",
              "      <th>Prodi</th>\n",
              "      <th>Label</th>\n",
              "      <th>judul_tokens</th>\n",
              "      <th>abstrak_tokens</th>\n",
              "    </tr>\n",
              "  </thead>\n",
              "  <tbody>\n",
              "    <tr>\n",
              "      <th>0</th>\n",
              "      <td>40411100468</td>\n",
              "      <td>perancangan dan implementasi sistem database t...</td>\n",
              "      <td>sistem informasi akademik siakad merupakan sis...</td>\n",
              "      <td>Teknik Informatika</td>\n",
              "      <td>RPL</td>\n",
              "      <td>['perancangan', 'implementasi', 'sistem', 'dat...</td>\n",
              "      <td>sistem informasi akademik siakad sistem inform...</td>\n",
              "    </tr>\n",
              "    <tr>\n",
              "      <th>1</th>\n",
              "      <td>40411100476</td>\n",
              "      <td>aplikasi kontrol dan monitoring jaringan kompu...</td>\n",
              "      <td>berjalannya koneksi jaringan komputer dengan l...</td>\n",
              "      <td>Teknik Informatika</td>\n",
              "      <td>RPL</td>\n",
              "      <td>['aplikasi', 'kontrol', 'monitoring', 'jaringa...</td>\n",
              "      <td>jalan koneksi jaring komputer lancar ganggu ha...</td>\n",
              "    </tr>\n",
              "    <tr>\n",
              "      <th>2</th>\n",
              "      <td>40411100480</td>\n",
              "      <td>rancang bangun aplikasi proxy server untukenkr...</td>\n",
              "      <td>web server adalah sebuah perangkat lunak serve...</td>\n",
              "      <td>Teknik Informatika</td>\n",
              "      <td>RPL</td>\n",
              "      <td>['rancang', 'bangun', 'aplikasi', 'proxy', 'se...</td>\n",
              "      <td>web server perangkat lunak server berfungsimen...</td>\n",
              "    </tr>\n",
              "    <tr>\n",
              "      <th>3</th>\n",
              "      <td>70411100070</td>\n",
              "      <td>sistem pendukung keputusan optimasi penjadwala...</td>\n",
              "      <td>penjadwalan kuliah di perguruan tinggi merupak...</td>\n",
              "      <td>Teknik Informatika</td>\n",
              "      <td>komputasi</td>\n",
              "      <td>['sistem', 'pendukung', 'keputusan', 'optimasi...</td>\n",
              "      <td>jadwal kuliah guru kompleks masalah variabel t...</td>\n",
              "    </tr>\n",
              "    <tr>\n",
              "      <th>4</th>\n",
              "      <td>80411100115</td>\n",
              "      <td>sistem augmented reality animasi benda bergera...</td>\n",
              "      <td>seiring perkembangan teknologi yang ada diduni...</td>\n",
              "      <td>Teknik Informatika</td>\n",
              "      <td>komputasi</td>\n",
              "      <td>['sistem', 'augmented', 'reality', 'animasi', ...</td>\n",
              "      <td>iring kembang teknologi dunia muncul teknologi...</td>\n",
              "    </tr>\n",
              "  </tbody>\n",
              "</table>\n",
              "</div>\n",
              "      <button class=\"colab-df-convert\" onclick=\"convertToInteractive('df-46d8b782-8f47-40e0-b789-ce45c6763c21')\"\n",
              "              title=\"Convert this dataframe to an interactive table.\"\n",
              "              style=\"display:none;\">\n",
              "        \n",
              "  <svg xmlns=\"http://www.w3.org/2000/svg\" height=\"24px\"viewBox=\"0 0 24 24\"\n",
              "       width=\"24px\">\n",
              "    <path d=\"M0 0h24v24H0V0z\" fill=\"none\"/>\n",
              "    <path d=\"M18.56 5.44l.94 2.06.94-2.06 2.06-.94-2.06-.94-.94-2.06-.94 2.06-2.06.94zm-11 1L8.5 8.5l.94-2.06 2.06-.94-2.06-.94L8.5 2.5l-.94 2.06-2.06.94zm10 10l.94 2.06.94-2.06 2.06-.94-2.06-.94-.94-2.06-.94 2.06-2.06.94z\"/><path d=\"M17.41 7.96l-1.37-1.37c-.4-.4-.92-.59-1.43-.59-.52 0-1.04.2-1.43.59L10.3 9.45l-7.72 7.72c-.78.78-.78 2.05 0 2.83L4 21.41c.39.39.9.59 1.41.59.51 0 1.02-.2 1.41-.59l7.78-7.78 2.81-2.81c.8-.78.8-2.07 0-2.86zM5.41 20L4 18.59l7.72-7.72 1.47 1.35L5.41 20z\"/>\n",
              "  </svg>\n",
              "      </button>\n",
              "      \n",
              "  <style>\n",
              "    .colab-df-container {\n",
              "      display:flex;\n",
              "      flex-wrap:wrap;\n",
              "      gap: 12px;\n",
              "    }\n",
              "\n",
              "    .colab-df-convert {\n",
              "      background-color: #E8F0FE;\n",
              "      border: none;\n",
              "      border-radius: 50%;\n",
              "      cursor: pointer;\n",
              "      display: none;\n",
              "      fill: #1967D2;\n",
              "      height: 32px;\n",
              "      padding: 0 0 0 0;\n",
              "      width: 32px;\n",
              "    }\n",
              "\n",
              "    .colab-df-convert:hover {\n",
              "      background-color: #E2EBFA;\n",
              "      box-shadow: 0px 1px 2px rgba(60, 64, 67, 0.3), 0px 1px 3px 1px rgba(60, 64, 67, 0.15);\n",
              "      fill: #174EA6;\n",
              "    }\n",
              "\n",
              "    [theme=dark] .colab-df-convert {\n",
              "      background-color: #3B4455;\n",
              "      fill: #D2E3FC;\n",
              "    }\n",
              "\n",
              "    [theme=dark] .colab-df-convert:hover {\n",
              "      background-color: #434B5C;\n",
              "      box-shadow: 0px 1px 3px 1px rgba(0, 0, 0, 0.15);\n",
              "      filter: drop-shadow(0px 1px 2px rgba(0, 0, 0, 0.3));\n",
              "      fill: #FFFFFF;\n",
              "    }\n",
              "  </style>\n",
              "\n",
              "      <script>\n",
              "        const buttonEl =\n",
              "          document.querySelector('#df-46d8b782-8f47-40e0-b789-ce45c6763c21 button.colab-df-convert');\n",
              "        buttonEl.style.display =\n",
              "          google.colab.kernel.accessAllowed ? 'block' : 'none';\n",
              "\n",
              "        async function convertToInteractive(key) {\n",
              "          const element = document.querySelector('#df-46d8b782-8f47-40e0-b789-ce45c6763c21');\n",
              "          const dataTable =\n",
              "            await google.colab.kernel.invokeFunction('convertToInteractive',\n",
              "                                                     [key], {});\n",
              "          if (!dataTable) return;\n",
              "\n",
              "          const docLinkHtml = 'Like what you see? Visit the ' +\n",
              "            '<a target=\"_blank\" href=https://colab.research.google.com/notebooks/data_table.ipynb>data table notebook</a>'\n",
              "            + ' to learn more about interactive tables.';\n",
              "          element.innerHTML = '';\n",
              "          dataTable['output_type'] = 'display_data';\n",
              "          await google.colab.output.renderOutput(dataTable, element);\n",
              "          const docLink = document.createElement('div');\n",
              "          docLink.innerHTML = docLinkHtml;\n",
              "          element.appendChild(docLink);\n",
              "        }\n",
              "      </script>\n",
              "    </div>\n",
              "  </div>\n",
              "  "
            ]
          },
          "metadata": {},
          "execution_count": 86
        }
      ],
      "source": [
        "dataOlah = pd.read_csv('https://raw.githubusercontent.com/Lailyth611/PSD/main/DataOlah_Pta.csv')\n",
        "dataOlah = dataOlah.drop(['Unnamed: 0'], axis=1)\n",
        "dataOlah.head()"
      ]
    },
    {
      "cell_type": "markdown",
      "metadata": {
        "id": "CAgDlozKqfvy"
      },
      "source": [
        "## Modeling Data"
      ]
    },
    {
      "cell_type": "code",
      "execution_count": 87,
      "metadata": {
        "id": "0Jt9TlhZo7kf"
      },
      "outputs": [],
      "source": [
        "from sklearn.model_selection import train_test_split\n",
        "\n",
        "X = dataOlah['abstrak_tokens']\n",
        "y = dataOlah['Label']"
      ]
    },
    {
      "cell_type": "markdown",
      "metadata": {
        "id": "XZYbPaX9qmj6"
      },
      "source": [
        "### Ekstraksi Fitur\n",
        "Menggunakan TF-IDF :\n",
        "term frequency–inverse document frequency"
      ]
    },
    {
      "cell_type": "code",
      "execution_count": 88,
      "metadata": {
        "colab": {
          "base_uri": "https://localhost:8080/",
          "height": 423
        },
        "id": "Tn4QvvkOjxnD",
        "outputId": "5177e1a8-b9dc-4219-f27b-6269c5661ef1"
      },
      "outputs": [
        {
          "output_type": "execute_result",
          "data": {
            "text/plain": [
              "     aalysis  aam  abad  abadi  abai  abdi  ability  abjad  absah  absensi  \\\n",
              "0        0.0  0.0   0.0    0.0   0.0   0.0      0.0    0.0    0.0      0.0   \n",
              "1        0.0  0.0   0.0    0.0   0.0   0.0      0.0    0.0    0.0      0.0   \n",
              "2        0.0  0.0   0.0    0.0   0.0   0.0      0.0    0.0    0.0      0.0   \n",
              "3        0.0  0.0   0.0    0.0   0.0   0.0      0.0    0.0    0.0      0.0   \n",
              "4        0.0  0.0   0.0    0.0   0.0   0.0      0.0    0.0    0.0      0.0   \n",
              "..       ...  ...   ...    ...   ...   ...      ...    ...    ...      ...   \n",
              "804      0.0  0.0   0.0    0.0   0.0   0.0      0.0    0.0    0.0      0.0   \n",
              "805      0.0  0.0   0.0    0.0   0.0   0.0      0.0    0.0    0.0      0.0   \n",
              "806      0.0  0.0   0.0    0.0   0.0   0.0      0.0    0.0    0.0      0.0   \n",
              "807      0.0  0.0   0.0    0.0   0.0   0.0      0.0    0.0    0.0      0.0   \n",
              "808      0.0  0.0   0.0    0.0   0.0   0.0      0.0    0.0    0.0      0.0   \n",
              "\n",
              "     ...  zara  zat  zcz   zf  zona  zone  zoning  zoom  zucara  zungu  \n",
              "0    ...   0.0  0.0  0.0  0.0   0.0   0.0     0.0   0.0     0.0    0.0  \n",
              "1    ...   0.0  0.0  0.0  0.0   0.0   0.0     0.0   0.0     0.0    0.0  \n",
              "2    ...   0.0  0.0  0.0  0.0   0.0   0.0     0.0   0.0     0.0    0.0  \n",
              "3    ...   0.0  0.0  0.0  0.0   0.0   0.0     0.0   0.0     0.0    0.0  \n",
              "4    ...   0.0  0.0  0.0  0.0   0.0   0.0     0.0   0.0     0.0    0.0  \n",
              "..   ...   ...  ...  ...  ...   ...   ...     ...   ...     ...    ...  \n",
              "804  ...   0.0  0.0  0.0  0.0   0.0   0.0     0.0   0.0     0.0    0.0  \n",
              "805  ...   0.0  0.0  0.0  0.0   0.0   0.0     0.0   0.0     0.0    0.0  \n",
              "806  ...   0.0  0.0  0.0  0.0   0.0   0.0     0.0   0.0     0.0    0.0  \n",
              "807  ...   0.0  0.0  0.0  0.0   0.0   0.0     0.0   0.0     0.0    0.0  \n",
              "808  ...   0.0  0.0  0.0  0.0   0.0   0.0     0.0   0.0     0.0    0.0  \n",
              "\n",
              "[809 rows x 6442 columns]"
            ],
            "text/html": [
              "\n",
              "  <div id=\"df-e7051b0d-e17b-4a37-9d74-3386b616b3b3\">\n",
              "    <div class=\"colab-df-container\">\n",
              "      <div>\n",
              "<style scoped>\n",
              "    .dataframe tbody tr th:only-of-type {\n",
              "        vertical-align: middle;\n",
              "    }\n",
              "\n",
              "    .dataframe tbody tr th {\n",
              "        vertical-align: top;\n",
              "    }\n",
              "\n",
              "    .dataframe thead th {\n",
              "        text-align: right;\n",
              "    }\n",
              "</style>\n",
              "<table border=\"1\" class=\"dataframe\">\n",
              "  <thead>\n",
              "    <tr style=\"text-align: right;\">\n",
              "      <th></th>\n",
              "      <th>aalysis</th>\n",
              "      <th>aam</th>\n",
              "      <th>abad</th>\n",
              "      <th>abadi</th>\n",
              "      <th>abai</th>\n",
              "      <th>abdi</th>\n",
              "      <th>ability</th>\n",
              "      <th>abjad</th>\n",
              "      <th>absah</th>\n",
              "      <th>absensi</th>\n",
              "      <th>...</th>\n",
              "      <th>zara</th>\n",
              "      <th>zat</th>\n",
              "      <th>zcz</th>\n",
              "      <th>zf</th>\n",
              "      <th>zona</th>\n",
              "      <th>zone</th>\n",
              "      <th>zoning</th>\n",
              "      <th>zoom</th>\n",
              "      <th>zucara</th>\n",
              "      <th>zungu</th>\n",
              "    </tr>\n",
              "  </thead>\n",
              "  <tbody>\n",
              "    <tr>\n",
              "      <th>0</th>\n",
              "      <td>0.0</td>\n",
              "      <td>0.0</td>\n",
              "      <td>0.0</td>\n",
              "      <td>0.0</td>\n",
              "      <td>0.0</td>\n",
              "      <td>0.0</td>\n",
              "      <td>0.0</td>\n",
              "      <td>0.0</td>\n",
              "      <td>0.0</td>\n",
              "      <td>0.0</td>\n",
              "      <td>...</td>\n",
              "      <td>0.0</td>\n",
              "      <td>0.0</td>\n",
              "      <td>0.0</td>\n",
              "      <td>0.0</td>\n",
              "      <td>0.0</td>\n",
              "      <td>0.0</td>\n",
              "      <td>0.0</td>\n",
              "      <td>0.0</td>\n",
              "      <td>0.0</td>\n",
              "      <td>0.0</td>\n",
              "    </tr>\n",
              "    <tr>\n",
              "      <th>1</th>\n",
              "      <td>0.0</td>\n",
              "      <td>0.0</td>\n",
              "      <td>0.0</td>\n",
              "      <td>0.0</td>\n",
              "      <td>0.0</td>\n",
              "      <td>0.0</td>\n",
              "      <td>0.0</td>\n",
              "      <td>0.0</td>\n",
              "      <td>0.0</td>\n",
              "      <td>0.0</td>\n",
              "      <td>...</td>\n",
              "      <td>0.0</td>\n",
              "      <td>0.0</td>\n",
              "      <td>0.0</td>\n",
              "      <td>0.0</td>\n",
              "      <td>0.0</td>\n",
              "      <td>0.0</td>\n",
              "      <td>0.0</td>\n",
              "      <td>0.0</td>\n",
              "      <td>0.0</td>\n",
              "      <td>0.0</td>\n",
              "    </tr>\n",
              "    <tr>\n",
              "      <th>2</th>\n",
              "      <td>0.0</td>\n",
              "      <td>0.0</td>\n",
              "      <td>0.0</td>\n",
              "      <td>0.0</td>\n",
              "      <td>0.0</td>\n",
              "      <td>0.0</td>\n",
              "      <td>0.0</td>\n",
              "      <td>0.0</td>\n",
              "      <td>0.0</td>\n",
              "      <td>0.0</td>\n",
              "      <td>...</td>\n",
              "      <td>0.0</td>\n",
              "      <td>0.0</td>\n",
              "      <td>0.0</td>\n",
              "      <td>0.0</td>\n",
              "      <td>0.0</td>\n",
              "      <td>0.0</td>\n",
              "      <td>0.0</td>\n",
              "      <td>0.0</td>\n",
              "      <td>0.0</td>\n",
              "      <td>0.0</td>\n",
              "    </tr>\n",
              "    <tr>\n",
              "      <th>3</th>\n",
              "      <td>0.0</td>\n",
              "      <td>0.0</td>\n",
              "      <td>0.0</td>\n",
              "      <td>0.0</td>\n",
              "      <td>0.0</td>\n",
              "      <td>0.0</td>\n",
              "      <td>0.0</td>\n",
              "      <td>0.0</td>\n",
              "      <td>0.0</td>\n",
              "      <td>0.0</td>\n",
              "      <td>...</td>\n",
              "      <td>0.0</td>\n",
              "      <td>0.0</td>\n",
              "      <td>0.0</td>\n",
              "      <td>0.0</td>\n",
              "      <td>0.0</td>\n",
              "      <td>0.0</td>\n",
              "      <td>0.0</td>\n",
              "      <td>0.0</td>\n",
              "      <td>0.0</td>\n",
              "      <td>0.0</td>\n",
              "    </tr>\n",
              "    <tr>\n",
              "      <th>4</th>\n",
              "      <td>0.0</td>\n",
              "      <td>0.0</td>\n",
              "      <td>0.0</td>\n",
              "      <td>0.0</td>\n",
              "      <td>0.0</td>\n",
              "      <td>0.0</td>\n",
              "      <td>0.0</td>\n",
              "      <td>0.0</td>\n",
              "      <td>0.0</td>\n",
              "      <td>0.0</td>\n",
              "      <td>...</td>\n",
              "      <td>0.0</td>\n",
              "      <td>0.0</td>\n",
              "      <td>0.0</td>\n",
              "      <td>0.0</td>\n",
              "      <td>0.0</td>\n",
              "      <td>0.0</td>\n",
              "      <td>0.0</td>\n",
              "      <td>0.0</td>\n",
              "      <td>0.0</td>\n",
              "      <td>0.0</td>\n",
              "    </tr>\n",
              "    <tr>\n",
              "      <th>...</th>\n",
              "      <td>...</td>\n",
              "      <td>...</td>\n",
              "      <td>...</td>\n",
              "      <td>...</td>\n",
              "      <td>...</td>\n",
              "      <td>...</td>\n",
              "      <td>...</td>\n",
              "      <td>...</td>\n",
              "      <td>...</td>\n",
              "      <td>...</td>\n",
              "      <td>...</td>\n",
              "      <td>...</td>\n",
              "      <td>...</td>\n",
              "      <td>...</td>\n",
              "      <td>...</td>\n",
              "      <td>...</td>\n",
              "      <td>...</td>\n",
              "      <td>...</td>\n",
              "      <td>...</td>\n",
              "      <td>...</td>\n",
              "      <td>...</td>\n",
              "    </tr>\n",
              "    <tr>\n",
              "      <th>804</th>\n",
              "      <td>0.0</td>\n",
              "      <td>0.0</td>\n",
              "      <td>0.0</td>\n",
              "      <td>0.0</td>\n",
              "      <td>0.0</td>\n",
              "      <td>0.0</td>\n",
              "      <td>0.0</td>\n",
              "      <td>0.0</td>\n",
              "      <td>0.0</td>\n",
              "      <td>0.0</td>\n",
              "      <td>...</td>\n",
              "      <td>0.0</td>\n",
              "      <td>0.0</td>\n",
              "      <td>0.0</td>\n",
              "      <td>0.0</td>\n",
              "      <td>0.0</td>\n",
              "      <td>0.0</td>\n",
              "      <td>0.0</td>\n",
              "      <td>0.0</td>\n",
              "      <td>0.0</td>\n",
              "      <td>0.0</td>\n",
              "    </tr>\n",
              "    <tr>\n",
              "      <th>805</th>\n",
              "      <td>0.0</td>\n",
              "      <td>0.0</td>\n",
              "      <td>0.0</td>\n",
              "      <td>0.0</td>\n",
              "      <td>0.0</td>\n",
              "      <td>0.0</td>\n",
              "      <td>0.0</td>\n",
              "      <td>0.0</td>\n",
              "      <td>0.0</td>\n",
              "      <td>0.0</td>\n",
              "      <td>...</td>\n",
              "      <td>0.0</td>\n",
              "      <td>0.0</td>\n",
              "      <td>0.0</td>\n",
              "      <td>0.0</td>\n",
              "      <td>0.0</td>\n",
              "      <td>0.0</td>\n",
              "      <td>0.0</td>\n",
              "      <td>0.0</td>\n",
              "      <td>0.0</td>\n",
              "      <td>0.0</td>\n",
              "    </tr>\n",
              "    <tr>\n",
              "      <th>806</th>\n",
              "      <td>0.0</td>\n",
              "      <td>0.0</td>\n",
              "      <td>0.0</td>\n",
              "      <td>0.0</td>\n",
              "      <td>0.0</td>\n",
              "      <td>0.0</td>\n",
              "      <td>0.0</td>\n",
              "      <td>0.0</td>\n",
              "      <td>0.0</td>\n",
              "      <td>0.0</td>\n",
              "      <td>...</td>\n",
              "      <td>0.0</td>\n",
              "      <td>0.0</td>\n",
              "      <td>0.0</td>\n",
              "      <td>0.0</td>\n",
              "      <td>0.0</td>\n",
              "      <td>0.0</td>\n",
              "      <td>0.0</td>\n",
              "      <td>0.0</td>\n",
              "      <td>0.0</td>\n",
              "      <td>0.0</td>\n",
              "    </tr>\n",
              "    <tr>\n",
              "      <th>807</th>\n",
              "      <td>0.0</td>\n",
              "      <td>0.0</td>\n",
              "      <td>0.0</td>\n",
              "      <td>0.0</td>\n",
              "      <td>0.0</td>\n",
              "      <td>0.0</td>\n",
              "      <td>0.0</td>\n",
              "      <td>0.0</td>\n",
              "      <td>0.0</td>\n",
              "      <td>0.0</td>\n",
              "      <td>...</td>\n",
              "      <td>0.0</td>\n",
              "      <td>0.0</td>\n",
              "      <td>0.0</td>\n",
              "      <td>0.0</td>\n",
              "      <td>0.0</td>\n",
              "      <td>0.0</td>\n",
              "      <td>0.0</td>\n",
              "      <td>0.0</td>\n",
              "      <td>0.0</td>\n",
              "      <td>0.0</td>\n",
              "    </tr>\n",
              "    <tr>\n",
              "      <th>808</th>\n",
              "      <td>0.0</td>\n",
              "      <td>0.0</td>\n",
              "      <td>0.0</td>\n",
              "      <td>0.0</td>\n",
              "      <td>0.0</td>\n",
              "      <td>0.0</td>\n",
              "      <td>0.0</td>\n",
              "      <td>0.0</td>\n",
              "      <td>0.0</td>\n",
              "      <td>0.0</td>\n",
              "      <td>...</td>\n",
              "      <td>0.0</td>\n",
              "      <td>0.0</td>\n",
              "      <td>0.0</td>\n",
              "      <td>0.0</td>\n",
              "      <td>0.0</td>\n",
              "      <td>0.0</td>\n",
              "      <td>0.0</td>\n",
              "      <td>0.0</td>\n",
              "      <td>0.0</td>\n",
              "      <td>0.0</td>\n",
              "    </tr>\n",
              "  </tbody>\n",
              "</table>\n",
              "<p>809 rows × 6442 columns</p>\n",
              "</div>\n",
              "      <button class=\"colab-df-convert\" onclick=\"convertToInteractive('df-e7051b0d-e17b-4a37-9d74-3386b616b3b3')\"\n",
              "              title=\"Convert this dataframe to an interactive table.\"\n",
              "              style=\"display:none;\">\n",
              "        \n",
              "  <svg xmlns=\"http://www.w3.org/2000/svg\" height=\"24px\"viewBox=\"0 0 24 24\"\n",
              "       width=\"24px\">\n",
              "    <path d=\"M0 0h24v24H0V0z\" fill=\"none\"/>\n",
              "    <path d=\"M18.56 5.44l.94 2.06.94-2.06 2.06-.94-2.06-.94-.94-2.06-.94 2.06-2.06.94zm-11 1L8.5 8.5l.94-2.06 2.06-.94-2.06-.94L8.5 2.5l-.94 2.06-2.06.94zm10 10l.94 2.06.94-2.06 2.06-.94-2.06-.94-.94-2.06-.94 2.06-2.06.94z\"/><path d=\"M17.41 7.96l-1.37-1.37c-.4-.4-.92-.59-1.43-.59-.52 0-1.04.2-1.43.59L10.3 9.45l-7.72 7.72c-.78.78-.78 2.05 0 2.83L4 21.41c.39.39.9.59 1.41.59.51 0 1.02-.2 1.41-.59l7.78-7.78 2.81-2.81c.8-.78.8-2.07 0-2.86zM5.41 20L4 18.59l7.72-7.72 1.47 1.35L5.41 20z\"/>\n",
              "  </svg>\n",
              "      </button>\n",
              "      \n",
              "  <style>\n",
              "    .colab-df-container {\n",
              "      display:flex;\n",
              "      flex-wrap:wrap;\n",
              "      gap: 12px;\n",
              "    }\n",
              "\n",
              "    .colab-df-convert {\n",
              "      background-color: #E8F0FE;\n",
              "      border: none;\n",
              "      border-radius: 50%;\n",
              "      cursor: pointer;\n",
              "      display: none;\n",
              "      fill: #1967D2;\n",
              "      height: 32px;\n",
              "      padding: 0 0 0 0;\n",
              "      width: 32px;\n",
              "    }\n",
              "\n",
              "    .colab-df-convert:hover {\n",
              "      background-color: #E2EBFA;\n",
              "      box-shadow: 0px 1px 2px rgba(60, 64, 67, 0.3), 0px 1px 3px 1px rgba(60, 64, 67, 0.15);\n",
              "      fill: #174EA6;\n",
              "    }\n",
              "\n",
              "    [theme=dark] .colab-df-convert {\n",
              "      background-color: #3B4455;\n",
              "      fill: #D2E3FC;\n",
              "    }\n",
              "\n",
              "    [theme=dark] .colab-df-convert:hover {\n",
              "      background-color: #434B5C;\n",
              "      box-shadow: 0px 1px 3px 1px rgba(0, 0, 0, 0.15);\n",
              "      filter: drop-shadow(0px 1px 2px rgba(0, 0, 0, 0.3));\n",
              "      fill: #FFFFFF;\n",
              "    }\n",
              "  </style>\n",
              "\n",
              "      <script>\n",
              "        const buttonEl =\n",
              "          document.querySelector('#df-e7051b0d-e17b-4a37-9d74-3386b616b3b3 button.colab-df-convert');\n",
              "        buttonEl.style.display =\n",
              "          google.colab.kernel.accessAllowed ? 'block' : 'none';\n",
              "\n",
              "        async function convertToInteractive(key) {\n",
              "          const element = document.querySelector('#df-e7051b0d-e17b-4a37-9d74-3386b616b3b3');\n",
              "          const dataTable =\n",
              "            await google.colab.kernel.invokeFunction('convertToInteractive',\n",
              "                                                     [key], {});\n",
              "          if (!dataTable) return;\n",
              "\n",
              "          const docLinkHtml = 'Like what you see? Visit the ' +\n",
              "            '<a target=\"_blank\" href=https://colab.research.google.com/notebooks/data_table.ipynb>data table notebook</a>'\n",
              "            + ' to learn more about interactive tables.';\n",
              "          element.innerHTML = '';\n",
              "          dataTable['output_type'] = 'display_data';\n",
              "          await google.colab.output.renderOutput(dataTable, element);\n",
              "          const docLink = document.createElement('div');\n",
              "          docLink.innerHTML = docLinkHtml;\n",
              "          element.appendChild(docLink);\n",
              "        }\n",
              "      </script>\n",
              "    </div>\n",
              "  </div>\n",
              "  "
            ]
          },
          "metadata": {},
          "execution_count": 88
        }
      ],
      "source": [
        "from sklearn.feature_extraction.text import TfidfVectorizer\n",
        "vectorizer = TfidfVectorizer()\n",
        "\n",
        "X_tfidf = vectorizer.fit_transform(X)\n",
        "\n",
        "terms = vectorizer.get_feature_names_out()\n",
        "df_tfidfvect = pd.DataFrame(data = X_tfidf.toarray(),columns = terms)\n",
        "df_tfidfvect"
      ]
    },
    {
      "cell_type": "code",
      "execution_count": 89,
      "metadata": {
        "colab": {
          "base_uri": "https://localhost:8080/"
        },
        "id": "T0yoD6iS66mq",
        "outputId": "c9e473a1-7e41-4728-f013-26a6fc41fe3e"
      },
      "outputs": [
        {
          "output_type": "execute_result",
          "data": {
            "text/plain": [
              "(809, 6442)"
            ]
          },
          "metadata": {},
          "execution_count": 89
        }
      ],
      "source": [
        "X_tfidf.shape"
      ]
    },
    {
      "cell_type": "code",
      "execution_count": 90,
      "metadata": {
        "colab": {
          "base_uri": "https://localhost:8080/"
        },
        "id": "oCGLgMln8KR7",
        "outputId": "7d5aea30-6bc9-4bb7-8989-b18bbdc3374d"
      },
      "outputs": [
        {
          "output_type": "stream",
          "name": "stdout",
          "text": [
            "                       term       rank\n",
            "5376                 sistem  32.339549\n",
            "1173                   data  28.965659\n",
            "939                   citra  28.863548\n",
            "3609                 metode  28.713771\n",
            "2085                  hasil  27.121133\n",
            "...                     ...        ...\n",
            "3887  numberabstrakberbagai   0.051212\n",
            "2479        jarimenggunakan   0.051212\n",
            "5160                seirver   0.040808\n",
            "264                analyzer   0.040808\n",
            "6364              wireshark   0.040808\n",
            "\n",
            "[6442 rows x 2 columns]\n"
          ]
        }
      ],
      "source": [
        "sums = X_tfidf.sum(axis=0)\n",
        "\n",
        "data = []\n",
        "for col, term in enumerate (terms):\n",
        "    data.append((term, sums[0,col]))\n",
        "    \n",
        "ranking = pd.DataFrame(data, columns=['term', 'rank'])\n",
        "print(ranking.sort_values('rank', ascending=False))"
      ]
    },
    {
      "cell_type": "markdown",
      "metadata": {
        "id": "NDGyJ0HS7w23"
      },
      "source": [
        "### PCA\n",
        "Untuk mereduksi kolom data"
      ]
    },
    {
      "cell_type": "code",
      "execution_count": 91,
      "metadata": {
        "colab": {
          "base_uri": "https://localhost:8080/"
        },
        "id": "9TJVxre2E2p3",
        "outputId": "59b60bd0-183f-476c-9cfb-27d14f571b3a"
      },
      "outputs": [
        {
          "output_type": "execute_result",
          "data": {
            "text/plain": [
              "(809, 6442)"
            ]
          },
          "metadata": {},
          "execution_count": 91
        }
      ],
      "source": [
        "X_tfidf.shape"
      ]
    },
    {
      "cell_type": "code",
      "execution_count": 92,
      "metadata": {
        "id": "iJUCv3jG7ymE"
      },
      "outputs": [],
      "source": [
        "from sklearn.decomposition import PCA\n",
        "\n",
        "pca = PCA(n_components=10)\n",
        "\n",
        "X_pca = pca.fit_transform(X_tfidf.toarray())"
      ]
    },
    {
      "cell_type": "code",
      "execution_count": 93,
      "metadata": {
        "colab": {
          "base_uri": "https://localhost:8080/"
        },
        "id": "5MGYWU8z7_eJ",
        "outputId": "28e328d6-c889-4483-eddd-7c636ced25f7"
      },
      "outputs": [
        {
          "output_type": "execute_result",
          "data": {
            "text/plain": [
              "(809, 10)"
            ]
          },
          "metadata": {},
          "execution_count": 93
        }
      ],
      "source": [
        "X_pca.shape"
      ]
    },
    {
      "cell_type": "markdown",
      "metadata": {
        "id": "cRzvz1GICs2X"
      },
      "source": [
        "Data yang awalnya berukuran 6442 di reduksi menjadi 5 kolom"
      ]
    },
    {
      "cell_type": "code",
      "execution_count": 94,
      "metadata": {
        "id": "WSR9WzlK8NPt"
      },
      "outputs": [],
      "source": [
        "X_train, X_test, y_train, y_test = train_test_split(X_pca, y, test_size=0.3, random_state=42)"
      ]
    },
    {
      "cell_type": "markdown",
      "metadata": {
        "id": "3Ey2VSR_tTbU"
      },
      "source": [
        "## Training Data"
      ]
    },
    {
      "cell_type": "markdown",
      "source": [
        "Split Data"
      ],
      "metadata": {
        "id": "70uaMAwMO7WJ"
      }
    },
    {
      "cell_type": "code",
      "source": [
        "X_train, X_test, y_train, y_test = train_test_split(X_pca, y, test_size=0.3, random_state=42)"
      ],
      "metadata": {
        "id": "hrL_6HJJO9m_"
      },
      "execution_count": 95,
      "outputs": []
    },
    {
      "cell_type": "markdown",
      "source": [
        "Model KNN"
      ],
      "metadata": {
        "id": "a6FvBgonPA8d"
      }
    },
    {
      "cell_type": "code",
      "source": [
        "from sklearn.neighbors import KNeighborsClassifier"
      ],
      "metadata": {
        "id": "7lnwoQhKPDXY"
      },
      "execution_count": 96,
      "outputs": []
    },
    {
      "cell_type": "code",
      "source": [
        "knn = KNeighborsClassifier(n_neighbors=3)\n",
        "model_knn = knn.fit(X_train,y_train)\n",
        "predictions_knn = model_knn.predict(X_test)"
      ],
      "metadata": {
        "id": "RLiaOQlYPH9e"
      },
      "execution_count": 97,
      "outputs": []
    },
    {
      "cell_type": "markdown",
      "source": [
        "Model Naive Bayes"
      ],
      "metadata": {
        "id": "FoD3EBpEPKqN"
      }
    },
    {
      "cell_type": "code",
      "source": [
        "from sklearn.naive_bayes import GaussianNB"
      ],
      "metadata": {
        "id": "Ksl54puQPMfu"
      },
      "execution_count": 98,
      "outputs": []
    },
    {
      "cell_type": "code",
      "source": [
        "bayes = GaussianNB()\n",
        "model_bayes = bayes.fit(X_train,y_train)\n",
        "predictions_bayes = model_bayes.predict(X_test)"
      ],
      "metadata": {
        "id": "Z7DSiNZJPOAt"
      },
      "execution_count": 99,
      "outputs": []
    },
    {
      "cell_type": "markdown",
      "metadata": {
        "id": "BNPRq8QEC1j0"
      },
      "source": [
        "### Menggunakan KNN"
      ]
    },
    {
      "cell_type": "code",
      "execution_count": 100,
      "metadata": {
        "id": "JkAqdIpttQLt"
      },
      "outputs": [],
      "source": [
        "from sklearn.neighbors import KNeighborsClassifier"
      ]
    },
    {
      "cell_type": "code",
      "execution_count": 101,
      "metadata": {
        "id": "ovbVBwnI9WLZ"
      },
      "outputs": [],
      "source": [
        "knn = KNeighborsClassifier(n_neighbors=3)\n",
        "model_knn = knn.fit(X_train,y_train)\n",
        "predictions_knn = model_knn.predict(X_test)"
      ]
    },
    {
      "cell_type": "markdown",
      "metadata": {
        "id": "8mYXYCOQuMX8"
      },
      "source": [
        "## Evaluasi"
      ]
    },
    {
      "cell_type": "markdown",
      "metadata": {
        "id": "PjZfjA66DlS6"
      },
      "source": [
        "### Menggunakan KNN"
      ]
    },
    {
      "cell_type": "code",
      "execution_count": 102,
      "metadata": {
        "colab": {
          "base_uri": "https://localhost:8080/"
        },
        "id": "JzeZQQmUuUjy",
        "outputId": "4a472187-432d-4a40-9e9f-cd7014559862"
      },
      "outputs": [
        {
          "output_type": "stream",
          "name": "stdout",
          "text": [
            "[[  7   1   9]\n",
            " [  0  40  13]\n",
            " [  5  16 152]]\n"
          ]
        }
      ],
      "source": [
        "from sklearn import metrics\n",
        "print(metrics.confusion_matrix(y_test,predictions_knn))"
      ]
    },
    {
      "cell_type": "code",
      "execution_count": 103,
      "metadata": {
        "colab": {
          "base_uri": "https://localhost:8080/"
        },
        "id": "tUwdzBwhuYXO",
        "outputId": "9c5f2c5b-9773-4e19-99a0-55801854dfff"
      },
      "outputs": [
        {
          "output_type": "stream",
          "name": "stdout",
          "text": [
            "              precision    recall  f1-score   support\n",
            "\n",
            "         PBA       0.58      0.41      0.48        17\n",
            "         RPL       0.70      0.75      0.73        53\n",
            "   komputasi       0.87      0.88      0.88       173\n",
            "\n",
            "    accuracy                           0.82       243\n",
            "   macro avg       0.72      0.68      0.70       243\n",
            "weighted avg       0.82      0.82      0.82       243\n",
            "\n"
          ]
        }
      ],
      "source": [
        "print(metrics.classification_report(y_test,predictions_knn))"
      ]
    },
    {
      "cell_type": "code",
      "execution_count": 104,
      "metadata": {
        "colab": {
          "base_uri": "https://localhost:8080/"
        },
        "id": "T4iADtDj2VQK",
        "outputId": "767ca8e7-7734-4a50-a1ef-f60bab3eb40d"
      },
      "outputs": [
        {
          "output_type": "stream",
          "name": "stdout",
          "text": [
            "Accuracy score :  0.8189300411522634\n",
            "Precision score :  0.8157863617465688\n",
            "Recall score :  0.8189300411522634\n",
            "F1 score :  0.8161082746969439\n"
          ]
        }
      ],
      "source": [
        "from sklearn.metrics import accuracy_score, precision_score, recall_score, f1_score\n",
        "\n",
        "print('Accuracy score : ', accuracy_score(y_test, predictions_knn))\n",
        "print('Precision score : ', precision_score(y_test, predictions_knn, average='weighted'))\n",
        "print('Recall score : ', recall_score(y_test, predictions_knn, average='weighted'))\n",
        "print('F1 score : ', f1_score(y_test, predictions_knn, average='weighted'))"
      ]
    },
    {
      "cell_type": "markdown",
      "metadata": {
        "id": "fyq-v4OaDoe8"
      },
      "source": [
        "### Menggunakan Naive Bayes"
      ]
    },
    {
      "cell_type": "code",
      "execution_count": 105,
      "metadata": {
        "colab": {
          "base_uri": "https://localhost:8080/"
        },
        "id": "kagLTSjsD0z4",
        "outputId": "7207d67d-9673-40f5-e345-64480004f390"
      },
      "outputs": [
        {
          "output_type": "stream",
          "name": "stdout",
          "text": [
            "[[ 15   1   1]\n",
            " [  3  42   8]\n",
            " [ 20  42 111]]\n"
          ]
        }
      ],
      "source": [
        "from sklearn import metrics\n",
        "print(metrics.confusion_matrix(y_test,predictions_bayes))"
      ]
    },
    {
      "cell_type": "code",
      "execution_count": 106,
      "metadata": {
        "colab": {
          "base_uri": "https://localhost:8080/"
        },
        "id": "icxbtiiiD4BA",
        "outputId": "f51fea1b-9e30-48de-d2d0-a5b2fc166ba7"
      },
      "outputs": [
        {
          "output_type": "stream",
          "name": "stdout",
          "text": [
            "              precision    recall  f1-score   support\n",
            "\n",
            "         PBA       0.39      0.88      0.55        17\n",
            "         RPL       0.49      0.79      0.61        53\n",
            "   komputasi       0.93      0.64      0.76       173\n",
            "\n",
            "    accuracy                           0.69       243\n",
            "   macro avg       0.60      0.77      0.64       243\n",
            "weighted avg       0.79      0.69      0.71       243\n",
            "\n"
          ]
        }
      ],
      "source": [
        "print(metrics.classification_report(y_test,predictions_bayes))"
      ]
    },
    {
      "cell_type": "code",
      "execution_count": 107,
      "metadata": {
        "colab": {
          "base_uri": "https://localhost:8080/"
        },
        "id": "pSVnzdmoD53R",
        "outputId": "0bc6e42f-1fc6-4d46-8ca0-cf2fb778144c"
      },
      "outputs": [
        {
          "output_type": "stream",
          "name": "stdout",
          "text": [
            "Accuracy score :  0.691358024691358\n",
            "Precision score :  0.7939249448967372\n",
            "Recall score :  0.691358024691358\n",
            "F1 score :  0.7103378400471605\n"
          ]
        }
      ],
      "source": [
        "from sklearn.metrics import accuracy_score, precision_score, recall_score, f1_score\n",
        "\n",
        "print('Accuracy score : ', accuracy_score(y_test, predictions_bayes))\n",
        "print('Precision score : ', precision_score(y_test, predictions_bayes, average='weighted'))\n",
        "print('Recall score : ', recall_score(y_test, predictions_bayes, average='weighted'))\n",
        "print('F1 score : ', f1_score(y_test, predictions_bayes, average='weighted'))"
      ]
    },
    {
      "cell_type": "markdown",
      "metadata": {
        "id": "qNf8FEvVBAvi"
      },
      "source": [
        "## Export Model"
      ]
    },
    {
      "cell_type": "code",
      "execution_count": 108,
      "metadata": {
        "colab": {
          "base_uri": "https://localhost:8080/"
        },
        "id": "-dbRfeyHBGJs",
        "outputId": "40997c18-a54e-4683-e509-961101f75f14"
      },
      "outputs": [
        {
          "output_type": "execute_result",
          "data": {
            "text/plain": [
              "['vectorizer_model_abstrak.joblib']"
            ]
          },
          "metadata": {},
          "execution_count": 108
        }
      ],
      "source": [
        "from joblib import dump\n",
        "\n",
        "dump(model_knn, filename=\"model_knn.joblib\")\n",
        "dump(model_bayes, filename=\"model_bayes.joblib\")\n",
        "dump(vectorizer, filename=\"vectorizer_model_abstrak.joblib\")"
      ]
    }
  ],
  "metadata": {
    "colab": {
      "provenance": []
    },
    "kernelspec": {
      "display_name": "Python 3",
      "name": "python3"
    },
    "language_info": {
      "name": "python"
    },
    "widgets": {
      "application/vnd.jupyter.widget-state+json": {
        "91eb8755bd5d4c678aa3d2d93d36f541": {
          "model_module": "@jupyter-widgets/controls",
          "model_name": "HBoxModel",
          "model_module_version": "1.5.0",
          "state": {
            "_dom_classes": [],
            "_model_module": "@jupyter-widgets/controls",
            "_model_module_version": "1.5.0",
            "_model_name": "HBoxModel",
            "_view_count": null,
            "_view_module": "@jupyter-widgets/controls",
            "_view_module_version": "1.5.0",
            "_view_name": "HBoxView",
            "box_style": "",
            "children": [
              "IPY_MODEL_cf0deaa840dc43e39ccf52de5d1044f6",
              "IPY_MODEL_65e6de6adcb943a381de32b0a1357062",
              "IPY_MODEL_52dd56ef2fea447f8ac623e6f1ed0d43"
            ],
            "layout": "IPY_MODEL_adac4ee955fc4479940b1c1c595e4606"
          }
        },
        "cf0deaa840dc43e39ccf52de5d1044f6": {
          "model_module": "@jupyter-widgets/controls",
          "model_name": "HTMLModel",
          "model_module_version": "1.5.0",
          "state": {
            "_dom_classes": [],
            "_model_module": "@jupyter-widgets/controls",
            "_model_module_version": "1.5.0",
            "_model_name": "HTMLModel",
            "_view_count": null,
            "_view_module": "@jupyter-widgets/controls",
            "_view_module_version": "1.5.0",
            "_view_name": "HTMLView",
            "description": "",
            "description_tooltip": null,
            "layout": "IPY_MODEL_7a8ff5f2f22c450bba8c1a57a1ca5645",
            "placeholder": "​",
            "style": "IPY_MODEL_0d4626e644a347d1bc12ee77957cfdb7",
            "value": "100%"
          }
        },
        "65e6de6adcb943a381de32b0a1357062": {
          "model_module": "@jupyter-widgets/controls",
          "model_name": "FloatProgressModel",
          "model_module_version": "1.5.0",
          "state": {
            "_dom_classes": [],
            "_model_module": "@jupyter-widgets/controls",
            "_model_module_version": "1.5.0",
            "_model_name": "FloatProgressModel",
            "_view_count": null,
            "_view_module": "@jupyter-widgets/controls",
            "_view_module_version": "1.5.0",
            "_view_name": "ProgressView",
            "bar_style": "success",
            "description": "",
            "description_tooltip": null,
            "layout": "IPY_MODEL_6198d719378545e78b0c2943fcc98b5d",
            "max": 809,
            "min": 0,
            "orientation": "horizontal",
            "style": "IPY_MODEL_2d68d4bcb71243b5b16118ae341d4ce6",
            "value": 809
          }
        },
        "52dd56ef2fea447f8ac623e6f1ed0d43": {
          "model_module": "@jupyter-widgets/controls",
          "model_name": "HTMLModel",
          "model_module_version": "1.5.0",
          "state": {
            "_dom_classes": [],
            "_model_module": "@jupyter-widgets/controls",
            "_model_module_version": "1.5.0",
            "_model_name": "HTMLModel",
            "_view_count": null,
            "_view_module": "@jupyter-widgets/controls",
            "_view_module_version": "1.5.0",
            "_view_name": "HTMLView",
            "description": "",
            "description_tooltip": null,
            "layout": "IPY_MODEL_00bee6222c1a477cb034062e4fbb4d04",
            "placeholder": "​",
            "style": "IPY_MODEL_201306e818a84482b17c9906d23f60b2",
            "value": " 809/809 [10:23&lt;00:00,  1.23it/s]"
          }
        },
        "adac4ee955fc4479940b1c1c595e4606": {
          "model_module": "@jupyter-widgets/base",
          "model_name": "LayoutModel",
          "model_module_version": "1.2.0",
          "state": {
            "_model_module": "@jupyter-widgets/base",
            "_model_module_version": "1.2.0",
            "_model_name": "LayoutModel",
            "_view_count": null,
            "_view_module": "@jupyter-widgets/base",
            "_view_module_version": "1.2.0",
            "_view_name": "LayoutView",
            "align_content": null,
            "align_items": null,
            "align_self": null,
            "border": null,
            "bottom": null,
            "display": null,
            "flex": null,
            "flex_flow": null,
            "grid_area": null,
            "grid_auto_columns": null,
            "grid_auto_flow": null,
            "grid_auto_rows": null,
            "grid_column": null,
            "grid_gap": null,
            "grid_row": null,
            "grid_template_areas": null,
            "grid_template_columns": null,
            "grid_template_rows": null,
            "height": null,
            "justify_content": null,
            "justify_items": null,
            "left": null,
            "margin": null,
            "max_height": null,
            "max_width": null,
            "min_height": null,
            "min_width": null,
            "object_fit": null,
            "object_position": null,
            "order": null,
            "overflow": null,
            "overflow_x": null,
            "overflow_y": null,
            "padding": null,
            "right": null,
            "top": null,
            "visibility": null,
            "width": null
          }
        },
        "7a8ff5f2f22c450bba8c1a57a1ca5645": {
          "model_module": "@jupyter-widgets/base",
          "model_name": "LayoutModel",
          "model_module_version": "1.2.0",
          "state": {
            "_model_module": "@jupyter-widgets/base",
            "_model_module_version": "1.2.0",
            "_model_name": "LayoutModel",
            "_view_count": null,
            "_view_module": "@jupyter-widgets/base",
            "_view_module_version": "1.2.0",
            "_view_name": "LayoutView",
            "align_content": null,
            "align_items": null,
            "align_self": null,
            "border": null,
            "bottom": null,
            "display": null,
            "flex": null,
            "flex_flow": null,
            "grid_area": null,
            "grid_auto_columns": null,
            "grid_auto_flow": null,
            "grid_auto_rows": null,
            "grid_column": null,
            "grid_gap": null,
            "grid_row": null,
            "grid_template_areas": null,
            "grid_template_columns": null,
            "grid_template_rows": null,
            "height": null,
            "justify_content": null,
            "justify_items": null,
            "left": null,
            "margin": null,
            "max_height": null,
            "max_width": null,
            "min_height": null,
            "min_width": null,
            "object_fit": null,
            "object_position": null,
            "order": null,
            "overflow": null,
            "overflow_x": null,
            "overflow_y": null,
            "padding": null,
            "right": null,
            "top": null,
            "visibility": null,
            "width": null
          }
        },
        "0d4626e644a347d1bc12ee77957cfdb7": {
          "model_module": "@jupyter-widgets/controls",
          "model_name": "DescriptionStyleModel",
          "model_module_version": "1.5.0",
          "state": {
            "_model_module": "@jupyter-widgets/controls",
            "_model_module_version": "1.5.0",
            "_model_name": "DescriptionStyleModel",
            "_view_count": null,
            "_view_module": "@jupyter-widgets/base",
            "_view_module_version": "1.2.0",
            "_view_name": "StyleView",
            "description_width": ""
          }
        },
        "6198d719378545e78b0c2943fcc98b5d": {
          "model_module": "@jupyter-widgets/base",
          "model_name": "LayoutModel",
          "model_module_version": "1.2.0",
          "state": {
            "_model_module": "@jupyter-widgets/base",
            "_model_module_version": "1.2.0",
            "_model_name": "LayoutModel",
            "_view_count": null,
            "_view_module": "@jupyter-widgets/base",
            "_view_module_version": "1.2.0",
            "_view_name": "LayoutView",
            "align_content": null,
            "align_items": null,
            "align_self": null,
            "border": null,
            "bottom": null,
            "display": null,
            "flex": null,
            "flex_flow": null,
            "grid_area": null,
            "grid_auto_columns": null,
            "grid_auto_flow": null,
            "grid_auto_rows": null,
            "grid_column": null,
            "grid_gap": null,
            "grid_row": null,
            "grid_template_areas": null,
            "grid_template_columns": null,
            "grid_template_rows": null,
            "height": null,
            "justify_content": null,
            "justify_items": null,
            "left": null,
            "margin": null,
            "max_height": null,
            "max_width": null,
            "min_height": null,
            "min_width": null,
            "object_fit": null,
            "object_position": null,
            "order": null,
            "overflow": null,
            "overflow_x": null,
            "overflow_y": null,
            "padding": null,
            "right": null,
            "top": null,
            "visibility": null,
            "width": null
          }
        },
        "2d68d4bcb71243b5b16118ae341d4ce6": {
          "model_module": "@jupyter-widgets/controls",
          "model_name": "ProgressStyleModel",
          "model_module_version": "1.5.0",
          "state": {
            "_model_module": "@jupyter-widgets/controls",
            "_model_module_version": "1.5.0",
            "_model_name": "ProgressStyleModel",
            "_view_count": null,
            "_view_module": "@jupyter-widgets/base",
            "_view_module_version": "1.2.0",
            "_view_name": "StyleView",
            "bar_color": null,
            "description_width": ""
          }
        },
        "00bee6222c1a477cb034062e4fbb4d04": {
          "model_module": "@jupyter-widgets/base",
          "model_name": "LayoutModel",
          "model_module_version": "1.2.0",
          "state": {
            "_model_module": "@jupyter-widgets/base",
            "_model_module_version": "1.2.0",
            "_model_name": "LayoutModel",
            "_view_count": null,
            "_view_module": "@jupyter-widgets/base",
            "_view_module_version": "1.2.0",
            "_view_name": "LayoutView",
            "align_content": null,
            "align_items": null,
            "align_self": null,
            "border": null,
            "bottom": null,
            "display": null,
            "flex": null,
            "flex_flow": null,
            "grid_area": null,
            "grid_auto_columns": null,
            "grid_auto_flow": null,
            "grid_auto_rows": null,
            "grid_column": null,
            "grid_gap": null,
            "grid_row": null,
            "grid_template_areas": null,
            "grid_template_columns": null,
            "grid_template_rows": null,
            "height": null,
            "justify_content": null,
            "justify_items": null,
            "left": null,
            "margin": null,
            "max_height": null,
            "max_width": null,
            "min_height": null,
            "min_width": null,
            "object_fit": null,
            "object_position": null,
            "order": null,
            "overflow": null,
            "overflow_x": null,
            "overflow_y": null,
            "padding": null,
            "right": null,
            "top": null,
            "visibility": null,
            "width": null
          }
        },
        "201306e818a84482b17c9906d23f60b2": {
          "model_module": "@jupyter-widgets/controls",
          "model_name": "DescriptionStyleModel",
          "model_module_version": "1.5.0",
          "state": {
            "_model_module": "@jupyter-widgets/controls",
            "_model_module_version": "1.5.0",
            "_model_name": "DescriptionStyleModel",
            "_view_count": null,
            "_view_module": "@jupyter-widgets/base",
            "_view_module_version": "1.2.0",
            "_view_name": "StyleView",
            "description_width": ""
          }
        }
      }
    }
  },
  "nbformat": 4,
  "nbformat_minor": 0
}